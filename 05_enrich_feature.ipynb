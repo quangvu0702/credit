{
 "cells": [
  {
   "cell_type": "code",
   "execution_count": 1,
   "metadata": {},
   "outputs": [],
   "source": [
    "# https://towardsdatascience.com/how-to-gain-state-of-the-art-result-on-tabular-data-with-deep-learning-and-embedding-layers-d1eb6b83c52c"
   ]
  },
  {
   "cell_type": "code",
   "execution_count": 2,
   "metadata": {},
   "outputs": [],
   "source": [
    "%load_ext autoreload\n",
    "%autoreload 2"
   ]
  },
  {
   "cell_type": "code",
   "execution_count": 3,
   "metadata": {},
   "outputs": [],
   "source": [
    "import pandas as pd\n",
    "import numpy as np\n",
    "import unidecode\n",
    "import re\n",
    "import random\n",
    "from collections import Counter"
   ]
  },
  {
   "cell_type": "code",
   "execution_count": 4,
   "metadata": {},
   "outputs": [],
   "source": [
    "from exp.nb_01 import load_data\n",
    "from exp.nb_02 import gini_score"
   ]
  },
  {
   "cell_type": "code",
   "execution_count": 5,
   "metadata": {},
   "outputs": [],
   "source": [
    "def write_down_features(df, label_df):\n",
    "    train_df = df[0:n_train]\n",
    "    test_df = df[n_train:]\n",
    "    train_df, test_df = train_df.reset_index(drop=True), test_df.reset_index(drop=True)\n",
    "    train_df['label'] = list(label_df)\n",
    "    train_df.to_pickle('data/train_feature.pickle')\n",
    "    test_df.to_pickle('data/test_feature.pickle')"
   ]
  },
  {
   "cell_type": "code",
   "execution_count": 6,
   "metadata": {},
   "outputs": [],
   "source": [
    "#export\n",
    "n_valid = 4000"
   ]
  },
  {
   "cell_type": "code",
   "execution_count": 7,
   "metadata": {
    "scrolled": false
   },
   "outputs": [
    {
     "name": "stderr",
     "output_type": "stream",
     "text": [
      "/home/ubuntu/anaconda3/envs/thanos/lib/python3.6/site-packages/IPython/core/interactiveshell.py:3214: DtypeWarning: Columns (51) have mixed types. Specify dtype option on import or set low_memory=False.\n",
      "  if (yield from self.run_code(code, result)):\n",
      "/home/ubuntu/anaconda3/envs/thanos/lib/python3.6/site-packages/IPython/core/interactiveshell.py:3214: DtypeWarning: Columns (50) have mixed types. Specify dtype option on import or set low_memory=False.\n",
      "  if (yield from self.run_code(code, result)):\n"
     ]
    }
   ],
   "source": [
    "train_df, test_df = load_data(keep_df=True)"
   ]
  },
  {
   "cell_type": "code",
   "execution_count": 8,
   "metadata": {},
   "outputs": [],
   "source": [
    "# train_df['label'] = train_df.label.apply(lambda x: 0.01 if x == 0 else 0.99)"
   ]
  },
  {
   "cell_type": "code",
   "execution_count": 9,
   "metadata": {},
   "outputs": [
    {
     "data": {
      "text/plain": [
       "(30000, 30000)"
      ]
     },
     "execution_count": 9,
     "metadata": {},
     "output_type": "execute_result"
    }
   ],
   "source": [
    "len(train_df), len(train_df.drop_duplicates())"
   ]
  },
  {
   "cell_type": "code",
   "execution_count": 10,
   "metadata": {},
   "outputs": [
    {
     "name": "stdout",
     "output_type": "stream",
     "text": [
      "19 25 18\n"
     ]
    }
   ],
   "source": [
    "cat_features = ['province', 'district', 'maCv',\n",
    "                'FIELD_7', 'FIELD_8', 'FIELD_9',\n",
    "                'FIELD_10', 'FIELD_12', 'FIELD_13', 'FIELD_17', \n",
    "                'FIELD_24', 'FIELD_35', 'FIELD_39', 'FIELD_40',\n",
    "                'FIELD_41', 'FIELD_42', 'FIELD_43', \n",
    "                'FIELD_44', 'FIELD_45']\n",
    "bool_features = ['FIELD_1', 'FIELD_2', 'FIELD_14', 'FIELD_15', 'FIELD_18', 'FIELD_19', \n",
    "                 'FIELD_20', 'FIELD_23', 'FIELD_25', \n",
    "                 'FIELD_26', 'FIELD_27', 'FIELD_28', \n",
    "                 'FIELD_29', 'FIELD_30', 'FIELD_31', 'FIELD_32', 'FIELD_33','FIELD_34',\n",
    "                 'FIELD_36', 'FIELD_37', 'FIELD_38', \n",
    "                 'FIELD_46', 'FIELD_47', 'FIELD_48', 'FIELD_49']\n",
    "num_features = [col for col in test_df.columns if col not in cat_features+bool_features]\n",
    "num_features.remove('id')\n",
    "\n",
    "print(len(cat_features), len(bool_features), len(num_features))"
   ]
  },
  {
   "cell_type": "code",
   "execution_count": 11,
   "metadata": {},
   "outputs": [],
   "source": [
    "addition_cat_features = []\n",
    "alphabe = list('abcdefghtkmn')\n",
    "for c in num_features:\n",
    "    len(c)\n",
    "    keys = list(set(train_df[train_df[c].notna()][c]))\n",
    "    values = alphabe[:len(keys)]\n",
    "    mapper = dict(zip(keys, values))\n",
    "    if len(set(train_df[train_df[c].notna()][c])) < 10:\n",
    "#         print(c, set(train_df[train_df[c].notna()][c]), mapper)\n",
    "        addition_cat_features += [f\"{c}_cat\"]\n",
    "        train_df[f\"{c}_cat\"] = train_df[c].apply(lambda x: mapper[x] if x in mapper else x)\n",
    "        \n",
    "cat_features += addition_cat_features"
   ]
  },
  {
   "cell_type": "code",
   "execution_count": 12,
   "metadata": {},
   "outputs": [
    {
     "data": {
      "text/plain": [
       "26000"
      ]
     },
     "execution_count": 12,
     "metadata": {},
     "output_type": "execute_result"
    }
   ],
   "source": [
    "only_train_df = train_df[:-n_valid]\n",
    "len(only_train_df)"
   ]
  },
  {
   "cell_type": "code",
   "execution_count": 13,
   "metadata": {},
   "outputs": [
    {
     "data": {
      "text/html": [
       "<div>\n",
       "<style scoped>\n",
       "    .dataframe tbody tr th:only-of-type {\n",
       "        vertical-align: middle;\n",
       "    }\n",
       "\n",
       "    .dataframe tbody tr th {\n",
       "        vertical-align: top;\n",
       "    }\n",
       "\n",
       "    .dataframe thead th {\n",
       "        text-align: right;\n",
       "    }\n",
       "</style>\n",
       "<table border=\"1\" class=\"dataframe\">\n",
       "  <thead>\n",
       "    <tr style=\"text-align: right;\">\n",
       "      <th></th>\n",
       "      <th>age_source1</th>\n",
       "      <th>age_source2</th>\n",
       "      <th>FIELD_3</th>\n",
       "      <th>FIELD_4</th>\n",
       "      <th>FIELD_5</th>\n",
       "      <th>FIELD_6</th>\n",
       "      <th>FIELD_11</th>\n",
       "      <th>FIELD_16</th>\n",
       "      <th>FIELD_21</th>\n",
       "      <th>FIELD_22</th>\n",
       "      <th>FIELD_50</th>\n",
       "      <th>FIELD_51</th>\n",
       "      <th>FIELD_52</th>\n",
       "      <th>FIELD_53</th>\n",
       "      <th>FIELD_54</th>\n",
       "      <th>FIELD_55</th>\n",
       "      <th>FIELD_56</th>\n",
       "      <th>FIELD_57</th>\n",
       "    </tr>\n",
       "  </thead>\n",
       "  <tbody>\n",
       "    <tr>\n",
       "      <th>15062</th>\n",
       "      <td>NaN</td>\n",
       "      <td>NaN</td>\n",
       "      <td>-1.0</td>\n",
       "      <td>0.0</td>\n",
       "      <td>0.0</td>\n",
       "      <td>0.0</td>\n",
       "      <td>NaN</td>\n",
       "      <td>NaN</td>\n",
       "      <td>NaN</td>\n",
       "      <td>NaN</td>\n",
       "      <td>NaN</td>\n",
       "      <td>NaN</td>\n",
       "      <td>NaN</td>\n",
       "      <td>NaN</td>\n",
       "      <td>NaN</td>\n",
       "      <td>NaN</td>\n",
       "      <td>NaN</td>\n",
       "      <td>NaN</td>\n",
       "    </tr>\n",
       "    <tr>\n",
       "      <th>2482</th>\n",
       "      <td>32.0</td>\n",
       "      <td>32.0</td>\n",
       "      <td>2911.0</td>\n",
       "      <td>0.0</td>\n",
       "      <td>1.0</td>\n",
       "      <td>0.0</td>\n",
       "      <td>0</td>\n",
       "      <td>1.0</td>\n",
       "      <td>1.0</td>\n",
       "      <td>82.0</td>\n",
       "      <td>29.770</td>\n",
       "      <td>64.032</td>\n",
       "      <td>30.955</td>\n",
       "      <td>31.171</td>\n",
       "      <td>0.00</td>\n",
       "      <td>0.22</td>\n",
       "      <td>0.0</td>\n",
       "      <td>0.0</td>\n",
       "    </tr>\n",
       "    <tr>\n",
       "      <th>7017</th>\n",
       "      <td>NaN</td>\n",
       "      <td>28.0</td>\n",
       "      <td>3636.0</td>\n",
       "      <td>0.0</td>\n",
       "      <td>0.0</td>\n",
       "      <td>0.0</td>\n",
       "      <td>5</td>\n",
       "      <td>1.0</td>\n",
       "      <td>1.0</td>\n",
       "      <td>66.0</td>\n",
       "      <td>29.770</td>\n",
       "      <td>32.229</td>\n",
       "      <td>30.955</td>\n",
       "      <td>31.171</td>\n",
       "      <td>0.00</td>\n",
       "      <td>0.10</td>\n",
       "      <td>0.0</td>\n",
       "      <td>0.0</td>\n",
       "    </tr>\n",
       "    <tr>\n",
       "      <th>26212</th>\n",
       "      <td>44.0</td>\n",
       "      <td>44.0</td>\n",
       "      <td>-1.0</td>\n",
       "      <td>0.0</td>\n",
       "      <td>2.0</td>\n",
       "      <td>0.0</td>\n",
       "      <td>12</td>\n",
       "      <td>1.0</td>\n",
       "      <td>1.0</td>\n",
       "      <td>24.0</td>\n",
       "      <td>60.946</td>\n",
       "      <td>4.413</td>\n",
       "      <td>30.955</td>\n",
       "      <td>31.171</td>\n",
       "      <td>0.12</td>\n",
       "      <td>0.00</td>\n",
       "      <td>0.0</td>\n",
       "      <td>0.0</td>\n",
       "    </tr>\n",
       "    <tr>\n",
       "      <th>12006</th>\n",
       "      <td>NaN</td>\n",
       "      <td>NaN</td>\n",
       "      <td>338.0</td>\n",
       "      <td>0.0</td>\n",
       "      <td>0.0</td>\n",
       "      <td>0.0</td>\n",
       "      <td>NaN</td>\n",
       "      <td>NaN</td>\n",
       "      <td>NaN</td>\n",
       "      <td>NaN</td>\n",
       "      <td>NaN</td>\n",
       "      <td>NaN</td>\n",
       "      <td>NaN</td>\n",
       "      <td>NaN</td>\n",
       "      <td>NaN</td>\n",
       "      <td>NaN</td>\n",
       "      <td>NaN</td>\n",
       "      <td>NaN</td>\n",
       "    </tr>\n",
       "    <tr>\n",
       "      <th>7522</th>\n",
       "      <td>NaN</td>\n",
       "      <td>25.0</td>\n",
       "      <td>1436.0</td>\n",
       "      <td>0.0</td>\n",
       "      <td>0.0</td>\n",
       "      <td>0.0</td>\n",
       "      <td>0</td>\n",
       "      <td>1.0</td>\n",
       "      <td>1.0</td>\n",
       "      <td>27.0</td>\n",
       "      <td>29.770</td>\n",
       "      <td>43.488</td>\n",
       "      <td>30.955</td>\n",
       "      <td>31.171</td>\n",
       "      <td>0.00</td>\n",
       "      <td>0.14</td>\n",
       "      <td>0.0</td>\n",
       "      <td>0.0</td>\n",
       "    </tr>\n",
       "    <tr>\n",
       "      <th>2422</th>\n",
       "      <td>33.0</td>\n",
       "      <td>33.0</td>\n",
       "      <td>2550.0</td>\n",
       "      <td>1.0</td>\n",
       "      <td>1.0</td>\n",
       "      <td>0.0</td>\n",
       "      <td>0</td>\n",
       "      <td>1.0</td>\n",
       "      <td>1.0</td>\n",
       "      <td>10.0</td>\n",
       "      <td>29.770</td>\n",
       "      <td>45.930</td>\n",
       "      <td>30.955</td>\n",
       "      <td>31.171</td>\n",
       "      <td>0.00</td>\n",
       "      <td>0.14</td>\n",
       "      <td>0.0</td>\n",
       "      <td>0.0</td>\n",
       "    </tr>\n",
       "    <tr>\n",
       "      <th>3655</th>\n",
       "      <td>NaN</td>\n",
       "      <td>20.0</td>\n",
       "      <td>350.0</td>\n",
       "      <td>0.0</td>\n",
       "      <td>0.0</td>\n",
       "      <td>0.0</td>\n",
       "      <td>0</td>\n",
       "      <td>1.0</td>\n",
       "      <td>1.0</td>\n",
       "      <td>32.0</td>\n",
       "      <td>29.770</td>\n",
       "      <td>54.640</td>\n",
       "      <td>30.955</td>\n",
       "      <td>31.171</td>\n",
       "      <td>0.00</td>\n",
       "      <td>0.16</td>\n",
       "      <td>0.0</td>\n",
       "      <td>0.0</td>\n",
       "    </tr>\n",
       "    <tr>\n",
       "      <th>6598</th>\n",
       "      <td>26.0</td>\n",
       "      <td>26.0</td>\n",
       "      <td>-1.0</td>\n",
       "      <td>3.0</td>\n",
       "      <td>2.0</td>\n",
       "      <td>0.0</td>\n",
       "      <td>6</td>\n",
       "      <td>1.0</td>\n",
       "      <td>1.0</td>\n",
       "      <td>104.0</td>\n",
       "      <td>29.770</td>\n",
       "      <td>54.770</td>\n",
       "      <td>30.955</td>\n",
       "      <td>31.171</td>\n",
       "      <td>0.00</td>\n",
       "      <td>0.16</td>\n",
       "      <td>0.0</td>\n",
       "      <td>0.0</td>\n",
       "    </tr>\n",
       "    <tr>\n",
       "      <th>28302</th>\n",
       "      <td>21.0</td>\n",
       "      <td>21.0</td>\n",
       "      <td>729.0</td>\n",
       "      <td>0.0</td>\n",
       "      <td>1.0</td>\n",
       "      <td>0.0</td>\n",
       "      <td>11</td>\n",
       "      <td>1.0</td>\n",
       "      <td>1.0</td>\n",
       "      <td>25.0</td>\n",
       "      <td>29.770</td>\n",
       "      <td>18.327</td>\n",
       "      <td>30.955</td>\n",
       "      <td>31.171</td>\n",
       "      <td>0.00</td>\n",
       "      <td>0.04</td>\n",
       "      <td>0.0</td>\n",
       "      <td>0.0</td>\n",
       "    </tr>\n",
       "    <tr>\n",
       "      <th>13942</th>\n",
       "      <td>38.0</td>\n",
       "      <td>38.0</td>\n",
       "      <td>4006.0</td>\n",
       "      <td>0.0</td>\n",
       "      <td>3.0</td>\n",
       "      <td>0.0</td>\n",
       "      <td>12</td>\n",
       "      <td>1.0</td>\n",
       "      <td>1.0</td>\n",
       "      <td>129.0</td>\n",
       "      <td>65.068</td>\n",
       "      <td>4.413</td>\n",
       "      <td>30.955</td>\n",
       "      <td>31.171</td>\n",
       "      <td>0.38</td>\n",
       "      <td>0.00</td>\n",
       "      <td>0.0</td>\n",
       "      <td>0.0</td>\n",
       "    </tr>\n",
       "    <tr>\n",
       "      <th>7937</th>\n",
       "      <td>NaN</td>\n",
       "      <td>NaN</td>\n",
       "      <td>-1.0</td>\n",
       "      <td>0.0</td>\n",
       "      <td>0.0</td>\n",
       "      <td>0.0</td>\n",
       "      <td>NaN</td>\n",
       "      <td>NaN</td>\n",
       "      <td>NaN</td>\n",
       "      <td>NaN</td>\n",
       "      <td>NaN</td>\n",
       "      <td>NaN</td>\n",
       "      <td>NaN</td>\n",
       "      <td>NaN</td>\n",
       "      <td>NaN</td>\n",
       "      <td>NaN</td>\n",
       "      <td>NaN</td>\n",
       "      <td>NaN</td>\n",
       "    </tr>\n",
       "    <tr>\n",
       "      <th>15641</th>\n",
       "      <td>32.0</td>\n",
       "      <td>32.0</td>\n",
       "      <td>2897.0</td>\n",
       "      <td>1.0</td>\n",
       "      <td>4.0</td>\n",
       "      <td>1.0</td>\n",
       "      <td>0</td>\n",
       "      <td>1.0</td>\n",
       "      <td>1.0</td>\n",
       "      <td>152.0</td>\n",
       "      <td>29.770</td>\n",
       "      <td>67.502</td>\n",
       "      <td>30.955</td>\n",
       "      <td>31.171</td>\n",
       "      <td>0.00</td>\n",
       "      <td>0.70</td>\n",
       "      <td>0.0</td>\n",
       "      <td>0.0</td>\n",
       "    </tr>\n",
       "    <tr>\n",
       "      <th>27432</th>\n",
       "      <td>NaN</td>\n",
       "      <td>NaN</td>\n",
       "      <td>-1.0</td>\n",
       "      <td>0.0</td>\n",
       "      <td>0.0</td>\n",
       "      <td>0.0</td>\n",
       "      <td>NaN</td>\n",
       "      <td>NaN</td>\n",
       "      <td>NaN</td>\n",
       "      <td>NaN</td>\n",
       "      <td>NaN</td>\n",
       "      <td>NaN</td>\n",
       "      <td>NaN</td>\n",
       "      <td>NaN</td>\n",
       "      <td>NaN</td>\n",
       "      <td>NaN</td>\n",
       "      <td>NaN</td>\n",
       "      <td>NaN</td>\n",
       "    </tr>\n",
       "    <tr>\n",
       "      <th>22242</th>\n",
       "      <td>39.0</td>\n",
       "      <td>39.0</td>\n",
       "      <td>1072.0</td>\n",
       "      <td>1.0</td>\n",
       "      <td>2.0</td>\n",
       "      <td>0.0</td>\n",
       "      <td>0</td>\n",
       "      <td>1.0</td>\n",
       "      <td>1.0</td>\n",
       "      <td>24.0</td>\n",
       "      <td>29.770</td>\n",
       "      <td>40.487</td>\n",
       "      <td>30.955</td>\n",
       "      <td>31.171</td>\n",
       "      <td>0.00</td>\n",
       "      <td>0.13</td>\n",
       "      <td>0.0</td>\n",
       "      <td>0.0</td>\n",
       "    </tr>\n",
       "  </tbody>\n",
       "</table>\n",
       "</div>"
      ],
      "text/plain": [
       "       age_source1  age_source2  FIELD_3  FIELD_4  FIELD_5  FIELD_6 FIELD_11  \\\n",
       "15062          NaN          NaN     -1.0      0.0      0.0      0.0      NaN   \n",
       "2482          32.0         32.0   2911.0      0.0      1.0      0.0        0   \n",
       "7017           NaN         28.0   3636.0      0.0      0.0      0.0        5   \n",
       "26212         44.0         44.0     -1.0      0.0      2.0      0.0       12   \n",
       "12006          NaN          NaN    338.0      0.0      0.0      0.0      NaN   \n",
       "7522           NaN         25.0   1436.0      0.0      0.0      0.0        0   \n",
       "2422          33.0         33.0   2550.0      1.0      1.0      0.0        0   \n",
       "3655           NaN         20.0    350.0      0.0      0.0      0.0        0   \n",
       "6598          26.0         26.0     -1.0      3.0      2.0      0.0        6   \n",
       "28302         21.0         21.0    729.0      0.0      1.0      0.0       11   \n",
       "13942         38.0         38.0   4006.0      0.0      3.0      0.0       12   \n",
       "7937           NaN          NaN     -1.0      0.0      0.0      0.0      NaN   \n",
       "15641         32.0         32.0   2897.0      1.0      4.0      1.0        0   \n",
       "27432          NaN          NaN     -1.0      0.0      0.0      0.0      NaN   \n",
       "22242         39.0         39.0   1072.0      1.0      2.0      0.0        0   \n",
       "\n",
       "       FIELD_16  FIELD_21  FIELD_22  FIELD_50  FIELD_51  FIELD_52  FIELD_53  \\\n",
       "15062       NaN       NaN       NaN       NaN       NaN       NaN       NaN   \n",
       "2482        1.0       1.0      82.0    29.770    64.032    30.955    31.171   \n",
       "7017        1.0       1.0      66.0    29.770    32.229    30.955    31.171   \n",
       "26212       1.0       1.0      24.0    60.946     4.413    30.955    31.171   \n",
       "12006       NaN       NaN       NaN       NaN       NaN       NaN       NaN   \n",
       "7522        1.0       1.0      27.0    29.770    43.488    30.955    31.171   \n",
       "2422        1.0       1.0      10.0    29.770    45.930    30.955    31.171   \n",
       "3655        1.0       1.0      32.0    29.770    54.640    30.955    31.171   \n",
       "6598        1.0       1.0     104.0    29.770    54.770    30.955    31.171   \n",
       "28302       1.0       1.0      25.0    29.770    18.327    30.955    31.171   \n",
       "13942       1.0       1.0     129.0    65.068     4.413    30.955    31.171   \n",
       "7937        NaN       NaN       NaN       NaN       NaN       NaN       NaN   \n",
       "15641       1.0       1.0     152.0    29.770    67.502    30.955    31.171   \n",
       "27432       NaN       NaN       NaN       NaN       NaN       NaN       NaN   \n",
       "22242       1.0       1.0      24.0    29.770    40.487    30.955    31.171   \n",
       "\n",
       "       FIELD_54  FIELD_55  FIELD_56  FIELD_57  \n",
       "15062       NaN       NaN       NaN       NaN  \n",
       "2482       0.00      0.22       0.0       0.0  \n",
       "7017       0.00      0.10       0.0       0.0  \n",
       "26212      0.12      0.00       0.0       0.0  \n",
       "12006       NaN       NaN       NaN       NaN  \n",
       "7522       0.00      0.14       0.0       0.0  \n",
       "2422       0.00      0.14       0.0       0.0  \n",
       "3655       0.00      0.16       0.0       0.0  \n",
       "6598       0.00      0.16       0.0       0.0  \n",
       "28302      0.00      0.04       0.0       0.0  \n",
       "13942      0.38      0.00       0.0       0.0  \n",
       "7937        NaN       NaN       NaN       NaN  \n",
       "15641      0.00      0.70       0.0       0.0  \n",
       "27432       NaN       NaN       NaN       NaN  \n",
       "22242      0.00      0.13       0.0       0.0  "
      ]
     },
     "execution_count": 13,
     "metadata": {},
     "output_type": "execute_result"
    }
   ],
   "source": [
    "train_df[num_features].sample(15)"
   ]
  },
  {
   "cell_type": "code",
   "execution_count": 14,
   "metadata": {},
   "outputs": [
    {
     "name": "stdout",
     "output_type": "stream",
     "text": [
      "417\n",
      "69\n"
     ]
    }
   ],
   "source": [
    "positive_df = only_train_df[only_train_df.label > 0.5]\n",
    "print(len(positive_df))\n",
    "print(len(train_df[train_df.label > 0.5]) - len(positive_df))"
   ]
  },
  {
   "cell_type": "code",
   "execution_count": 15,
   "metadata": {},
   "outputs": [],
   "source": [
    "def filling_na_bool_features(train_df, df, keep=0.15):\n",
    "    for c in bool_features:\n",
    "        population = list(train_df[train_df[c].notna()][c])\n",
    "        df[c] = df[c].apply(lambda x: random.choice(population) if pd.isna(x) and random.random() < keep else x)\n",
    "    df['version'] = 'bool_features'\n",
    "    return df\n",
    "\n",
    "def filling_na_cat_features(train_df, df, keep=0.15):\n",
    "    for c in cat_features:\n",
    "        population = list(train_df[train_df[c].notna()][c])\n",
    "        df[c] = df[c].apply(lambda x: random.choice(population) if pd.isna(x) and random.random() < keep else x)\n",
    "    df['version'] = 'cat_features'\n",
    "    return df\n",
    "\n",
    "def filling_na_num_features(train_df, df, keep=0.15):\n",
    "    for c in num_features:\n",
    "        population = list(train_df[train_df[c].notna()][c])\n",
    "        df[c] = df[c].apply(lambda x: random.choice(population) if pd.isna(x) and random.random() < keep else x)\n",
    "    df['version'] = 'num_features'\n",
    "    return df"
   ]
  },
  {
   "cell_type": "code",
   "execution_count": 16,
   "metadata": {
    "scrolled": true
   },
   "outputs": [],
   "source": [
    "def sample_neighbor(population, x):\n",
    "    population.sort()\n",
    "    n_population = len(population)\n",
    "    delta = int(n_population * 0.1 / 2)\n",
    "\n",
    "    index = population.index(x)\n",
    "    l, r = max(0, index - delta), min(n_population, index + delta)\n",
    "    return random.choice(population[l:r])\n",
    "\n",
    "def shiff_num_features(train_df, df, keep=0.15):\n",
    "    for c in num_features:\n",
    "        population = list(set(train_df[train_df[c].notna()][c]))\n",
    "        if len(population) > 20:\n",
    "            df[c] = df[c].apply(lambda x: sample_neighbor(population, x) if (not pd.isna(x)) and (x != -1) and (random.random() < keep) else x)\n",
    "    return df"
   ]
  },
  {
   "cell_type": "code",
   "execution_count": 17,
   "metadata": {},
   "outputs": [
    {
     "data": {
      "text/html": [
       "<div>\n",
       "<style scoped>\n",
       "    .dataframe tbody tr th:only-of-type {\n",
       "        vertical-align: middle;\n",
       "    }\n",
       "\n",
       "    .dataframe tbody tr th {\n",
       "        vertical-align: top;\n",
       "    }\n",
       "\n",
       "    .dataframe thead th {\n",
       "        text-align: right;\n",
       "    }\n",
       "</style>\n",
       "<table border=\"1\" class=\"dataframe\">\n",
       "  <thead>\n",
       "    <tr style=\"text-align: right;\">\n",
       "      <th></th>\n",
       "      <th>age_source1</th>\n",
       "      <th>age_source2</th>\n",
       "      <th>FIELD_3</th>\n",
       "      <th>FIELD_4</th>\n",
       "      <th>FIELD_5</th>\n",
       "      <th>FIELD_6</th>\n",
       "      <th>FIELD_11</th>\n",
       "      <th>FIELD_16</th>\n",
       "      <th>FIELD_21</th>\n",
       "      <th>FIELD_22</th>\n",
       "      <th>FIELD_50</th>\n",
       "      <th>FIELD_51</th>\n",
       "      <th>FIELD_52</th>\n",
       "      <th>FIELD_53</th>\n",
       "      <th>FIELD_54</th>\n",
       "      <th>FIELD_55</th>\n",
       "      <th>FIELD_56</th>\n",
       "      <th>FIELD_57</th>\n",
       "    </tr>\n",
       "  </thead>\n",
       "  <tbody>\n",
       "    <tr>\n",
       "      <th>0</th>\n",
       "      <td>NaN</td>\n",
       "      <td>NaN</td>\n",
       "      <td>2547.0</td>\n",
       "      <td>0.0</td>\n",
       "      <td>0.0</td>\n",
       "      <td>0.0</td>\n",
       "      <td>NaN</td>\n",
       "      <td>NaN</td>\n",
       "      <td>NaN</td>\n",
       "      <td>NaN</td>\n",
       "      <td>NaN</td>\n",
       "      <td>NaN</td>\n",
       "      <td>NaN</td>\n",
       "      <td>NaN</td>\n",
       "      <td>NaN</td>\n",
       "      <td>NaN</td>\n",
       "      <td>NaN</td>\n",
       "      <td>NaN</td>\n",
       "    </tr>\n",
       "    <tr>\n",
       "      <th>1</th>\n",
       "      <td>44.0</td>\n",
       "      <td>44.0</td>\n",
       "      <td>-1.0</td>\n",
       "      <td>1.0</td>\n",
       "      <td>1.0</td>\n",
       "      <td>1.0</td>\n",
       "      <td>12</td>\n",
       "      <td>2.0</td>\n",
       "      <td>1.0</td>\n",
       "      <td>4.0</td>\n",
       "      <td>29.77</td>\n",
       "      <td>17.561</td>\n",
       "      <td>30.955</td>\n",
       "      <td>31.171</td>\n",
       "      <td>0.0</td>\n",
       "      <td>0.04</td>\n",
       "      <td>0.0</td>\n",
       "      <td>0.0</td>\n",
       "    </tr>\n",
       "    <tr>\n",
       "      <th>2</th>\n",
       "      <td>30.0</td>\n",
       "      <td>30.0</td>\n",
       "      <td>3273.0</td>\n",
       "      <td>1.0</td>\n",
       "      <td>4.0</td>\n",
       "      <td>0.0</td>\n",
       "      <td>12</td>\n",
       "      <td>1.0</td>\n",
       "      <td>1.0</td>\n",
       "      <td>54.0</td>\n",
       "      <td>29.77</td>\n",
       "      <td>56.512</td>\n",
       "      <td>30.955</td>\n",
       "      <td>31.171</td>\n",
       "      <td>0.0</td>\n",
       "      <td>0.16</td>\n",
       "      <td>0.0</td>\n",
       "      <td>0.0</td>\n",
       "    </tr>\n",
       "    <tr>\n",
       "      <th>3</th>\n",
       "      <td>43.0</td>\n",
       "      <td>NaN</td>\n",
       "      <td>3991.0</td>\n",
       "      <td>1.0</td>\n",
       "      <td>1.0</td>\n",
       "      <td>0.0</td>\n",
       "      <td>NaN</td>\n",
       "      <td>NaN</td>\n",
       "      <td>NaN</td>\n",
       "      <td>NaN</td>\n",
       "      <td>NaN</td>\n",
       "      <td>NaN</td>\n",
       "      <td>NaN</td>\n",
       "      <td>NaN</td>\n",
       "      <td>NaN</td>\n",
       "      <td>NaN</td>\n",
       "      <td>NaN</td>\n",
       "      <td>NaN</td>\n",
       "    </tr>\n",
       "    <tr>\n",
       "      <th>4</th>\n",
       "      <td>21.0</td>\n",
       "      <td>21.0</td>\n",
       "      <td>1450.0</td>\n",
       "      <td>0.0</td>\n",
       "      <td>2.0</td>\n",
       "      <td>0.0</td>\n",
       "      <td>12</td>\n",
       "      <td>1.0</td>\n",
       "      <td>1.0</td>\n",
       "      <td>24.0</td>\n",
       "      <td>29.77</td>\n",
       "      <td>13.789</td>\n",
       "      <td>30.955</td>\n",
       "      <td>31.171</td>\n",
       "      <td>0.0</td>\n",
       "      <td>0.03</td>\n",
       "      <td>0.0</td>\n",
       "      <td>0.0</td>\n",
       "    </tr>\n",
       "    <tr>\n",
       "      <th>...</th>\n",
       "      <td>...</td>\n",
       "      <td>...</td>\n",
       "      <td>...</td>\n",
       "      <td>...</td>\n",
       "      <td>...</td>\n",
       "      <td>...</td>\n",
       "      <td>...</td>\n",
       "      <td>...</td>\n",
       "      <td>...</td>\n",
       "      <td>...</td>\n",
       "      <td>...</td>\n",
       "      <td>...</td>\n",
       "      <td>...</td>\n",
       "      <td>...</td>\n",
       "      <td>...</td>\n",
       "      <td>...</td>\n",
       "      <td>...</td>\n",
       "      <td>...</td>\n",
       "    </tr>\n",
       "    <tr>\n",
       "      <th>29995</th>\n",
       "      <td>28.0</td>\n",
       "      <td>28.0</td>\n",
       "      <td>720.0</td>\n",
       "      <td>2.0</td>\n",
       "      <td>6.0</td>\n",
       "      <td>0.0</td>\n",
       "      <td>0</td>\n",
       "      <td>1.0</td>\n",
       "      <td>1.0</td>\n",
       "      <td>36.0</td>\n",
       "      <td>29.77</td>\n",
       "      <td>33.503</td>\n",
       "      <td>30.955</td>\n",
       "      <td>31.171</td>\n",
       "      <td>0.0</td>\n",
       "      <td>0.11</td>\n",
       "      <td>0.0</td>\n",
       "      <td>0.0</td>\n",
       "    </tr>\n",
       "    <tr>\n",
       "      <th>29996</th>\n",
       "      <td>34.0</td>\n",
       "      <td>34.0</td>\n",
       "      <td>3627.0</td>\n",
       "      <td>0.0</td>\n",
       "      <td>8.0</td>\n",
       "      <td>2.0</td>\n",
       "      <td>6</td>\n",
       "      <td>1.0</td>\n",
       "      <td>1.0</td>\n",
       "      <td>104.0</td>\n",
       "      <td>29.77</td>\n",
       "      <td>41.194</td>\n",
       "      <td>30.955</td>\n",
       "      <td>31.171</td>\n",
       "      <td>0.0</td>\n",
       "      <td>0.13</td>\n",
       "      <td>0.0</td>\n",
       "      <td>0.0</td>\n",
       "    </tr>\n",
       "    <tr>\n",
       "      <th>29997</th>\n",
       "      <td>29.0</td>\n",
       "      <td>NaN</td>\n",
       "      <td>3651.0</td>\n",
       "      <td>2.0</td>\n",
       "      <td>1.0</td>\n",
       "      <td>0.0</td>\n",
       "      <td>NaN</td>\n",
       "      <td>NaN</td>\n",
       "      <td>NaN</td>\n",
       "      <td>NaN</td>\n",
       "      <td>NaN</td>\n",
       "      <td>NaN</td>\n",
       "      <td>NaN</td>\n",
       "      <td>NaN</td>\n",
       "      <td>NaN</td>\n",
       "      <td>NaN</td>\n",
       "      <td>NaN</td>\n",
       "      <td>NaN</td>\n",
       "    </tr>\n",
       "    <tr>\n",
       "      <th>29998</th>\n",
       "      <td>39.0</td>\n",
       "      <td>39.0</td>\n",
       "      <td>-1.0</td>\n",
       "      <td>2.0</td>\n",
       "      <td>2.0</td>\n",
       "      <td>0.0</td>\n",
       "      <td>12</td>\n",
       "      <td>1.0</td>\n",
       "      <td>1.0</td>\n",
       "      <td>24.0</td>\n",
       "      <td>29.77</td>\n",
       "      <td>21.478</td>\n",
       "      <td>30.955</td>\n",
       "      <td>31.171</td>\n",
       "      <td>0.0</td>\n",
       "      <td>0.05</td>\n",
       "      <td>0.0</td>\n",
       "      <td>0.0</td>\n",
       "    </tr>\n",
       "    <tr>\n",
       "      <th>29999</th>\n",
       "      <td>25.0</td>\n",
       "      <td>NaN</td>\n",
       "      <td>364.0</td>\n",
       "      <td>0.0</td>\n",
       "      <td>3.0</td>\n",
       "      <td>1.0</td>\n",
       "      <td>NaN</td>\n",
       "      <td>NaN</td>\n",
       "      <td>NaN</td>\n",
       "      <td>NaN</td>\n",
       "      <td>NaN</td>\n",
       "      <td>NaN</td>\n",
       "      <td>NaN</td>\n",
       "      <td>NaN</td>\n",
       "      <td>NaN</td>\n",
       "      <td>NaN</td>\n",
       "      <td>NaN</td>\n",
       "      <td>NaN</td>\n",
       "    </tr>\n",
       "  </tbody>\n",
       "</table>\n",
       "<p>30000 rows × 18 columns</p>\n",
       "</div>"
      ],
      "text/plain": [
       "       age_source1  age_source2  FIELD_3  FIELD_4  FIELD_5  FIELD_6 FIELD_11  \\\n",
       "0              NaN          NaN   2547.0      0.0      0.0      0.0      NaN   \n",
       "1             44.0         44.0     -1.0      1.0      1.0      1.0       12   \n",
       "2             30.0         30.0   3273.0      1.0      4.0      0.0       12   \n",
       "3             43.0          NaN   3991.0      1.0      1.0      0.0      NaN   \n",
       "4             21.0         21.0   1450.0      0.0      2.0      0.0       12   \n",
       "...            ...          ...      ...      ...      ...      ...      ...   \n",
       "29995         28.0         28.0    720.0      2.0      6.0      0.0        0   \n",
       "29996         34.0         34.0   3627.0      0.0      8.0      2.0        6   \n",
       "29997         29.0          NaN   3651.0      2.0      1.0      0.0      NaN   \n",
       "29998         39.0         39.0     -1.0      2.0      2.0      0.0       12   \n",
       "29999         25.0          NaN    364.0      0.0      3.0      1.0      NaN   \n",
       "\n",
       "       FIELD_16  FIELD_21  FIELD_22  FIELD_50  FIELD_51  FIELD_52  FIELD_53  \\\n",
       "0           NaN       NaN       NaN       NaN       NaN       NaN       NaN   \n",
       "1           2.0       1.0       4.0     29.77    17.561    30.955    31.171   \n",
       "2           1.0       1.0      54.0     29.77    56.512    30.955    31.171   \n",
       "3           NaN       NaN       NaN       NaN       NaN       NaN       NaN   \n",
       "4           1.0       1.0      24.0     29.77    13.789    30.955    31.171   \n",
       "...         ...       ...       ...       ...       ...       ...       ...   \n",
       "29995       1.0       1.0      36.0     29.77    33.503    30.955    31.171   \n",
       "29996       1.0       1.0     104.0     29.77    41.194    30.955    31.171   \n",
       "29997       NaN       NaN       NaN       NaN       NaN       NaN       NaN   \n",
       "29998       1.0       1.0      24.0     29.77    21.478    30.955    31.171   \n",
       "29999       NaN       NaN       NaN       NaN       NaN       NaN       NaN   \n",
       "\n",
       "       FIELD_54  FIELD_55  FIELD_56  FIELD_57  \n",
       "0           NaN       NaN       NaN       NaN  \n",
       "1           0.0      0.04       0.0       0.0  \n",
       "2           0.0      0.16       0.0       0.0  \n",
       "3           NaN       NaN       NaN       NaN  \n",
       "4           0.0      0.03       0.0       0.0  \n",
       "...         ...       ...       ...       ...  \n",
       "29995       0.0      0.11       0.0       0.0  \n",
       "29996       0.0      0.13       0.0       0.0  \n",
       "29997       NaN       NaN       NaN       NaN  \n",
       "29998       0.0      0.05       0.0       0.0  \n",
       "29999       NaN       NaN       NaN       NaN  \n",
       "\n",
       "[30000 rows x 18 columns]"
      ]
     },
     "execution_count": 17,
     "metadata": {},
     "output_type": "execute_result"
    }
   ],
   "source": [
    "train_df[num_features]"
   ]
  },
  {
   "cell_type": "code",
   "execution_count": 18,
   "metadata": {
    "scrolled": true
   },
   "outputs": [
    {
     "data": {
      "text/plain": [
       "18"
      ]
     },
     "execution_count": 18,
     "metadata": {},
     "output_type": "execute_result"
    }
   ],
   "source": [
    "len(num_features)"
   ]
  },
  {
   "cell_type": "code",
   "execution_count": 24,
   "metadata": {
    "scrolled": true
   },
   "outputs": [
    {
     "name": "stdout",
     "output_type": "stream",
     "text": [
      "417 1126 3600 12661\n",
      "26000 34223 35307 34128\n",
      "78000\n",
      "26000 88217\n"
     ]
    }
   ],
   "source": [
    "def filling_na_3_features(train_df, positive_df):\n",
    "    positive_df['version'] = '1'\n",
    "    v1_positive = pd.concat([filling_na_bool_features(train_df, positive_df.copy(), 0.25) for _ in range(2)])\n",
    "    v1_positive = pd.concat([positive_df, v1_positive]).drop_duplicates(['id'] + bool_features)\n",
    "    v1_positive = v1_positive[v1_positive.version == 'bool_features']\n",
    "\n",
    "    v2_positive = pd.concat([filling_na_cat_features(train_df, v1_positive.copy(), 0.15) for _ in range(1)])\n",
    "    v2_positive = pd.concat([v1_positive, v2_positive]).drop_duplicates(['id'] + cat_features)\n",
    "    v2_positive = v2_positive[v2_positive.version == 'cat_features']\n",
    "\n",
    "    v3_positive = pd.concat([filling_na_num_features(train_df, v2_positive.copy(), 0.15) for _ in range(1)])\n",
    "    v3_positive = pd.concat([v2_positive, v3_positive]).drop_duplicates(['id'] + num_features)\n",
    "    v3_positive = v3_positive[v3_positive.version == 'num_features']\n",
    "    del v3_positive['version']\n",
    "\n",
    "    print(len(positive_df), len(v1_positive), len(v2_positive), len(v3_positive))\n",
    "    return v3_positive\n",
    "\n",
    "\n",
    "def augmente_data_v1(train_df, positive_df, w=[2,2,2]):\n",
    "    # just random do filling_na features\n",
    "    v1_positive = pd.concat([filling_na_bool_features(train_df, positive_df.copy(), 0.25) for _ in range(w[0])])\n",
    "    v2_positive = pd.concat([filling_na_cat_features(train_df, v1_positive.copy(), 0.15) for _ in range(w[1])])\n",
    "    v3_positive = pd.concat([filling_na_num_features(train_df, v2_positive.copy(), 0.15) for _ in range(w[2])])\n",
    "    del v1_positive['version']\n",
    "    del v2_positive['version']\n",
    "    del v3_positive['version']\n",
    "    print(len(positive_df), \n",
    "          len(pd.concat([positive_df, v1_positive]).drop_duplicates()), \n",
    "          len(pd.concat([positive_df, v2_positive]).drop_duplicates()), \n",
    "          len(pd.concat([positive_df, v3_positive]).drop_duplicates()), )\n",
    "    return v3_positive\n",
    "\n",
    "def augmente_data_v2(train_df, positive_df, w=[2,2,2]):\n",
    "    # just random do filling_na only 1 columns each row.\n",
    "    v1_positive = pd.concat([filling_na_bool_features(train_df, positive_df.copy(), 0.25) for _ in range(w[0])])\n",
    "    v2_positive = pd.concat([filling_na_cat_features(train_df, positive_df.copy(), 0.15) for _ in range(w[1])])\n",
    "    v3_positive = pd.concat([filling_na_num_features(train_df, positive_df.copy(), 0.15) for _ in range(w[2])])\n",
    "    del v1_positive['version']\n",
    "    del v2_positive['version']\n",
    "    del v3_positive['version']\n",
    "    print(len(positive_df), \n",
    "          len(pd.concat([positive_df, v1_positive]).drop_duplicates()), \n",
    "          len(pd.concat([positive_df, v2_positive]).drop_duplicates()), \n",
    "          len(pd.concat([positive_df, v3_positive]).drop_duplicates()), )\n",
    "    return pd.concat([v1_positive, v2_positive, v3_positive])\n",
    "\n",
    "def augmente_data_v3(train_df, positive_df, w=[1,1,1]):\n",
    "    # just random do filling_na only 1 columns each row. and ship num values\n",
    "    agumented_data = augmente_data_v2(train_df, positive_df, w)\n",
    "    print(len(agumented_data))\n",
    "    agumented_data = shiff_num_features(train_df, agumented_data, keep=0.15)\n",
    "    print(len(positive_df), \n",
    "          len(pd.concat([positive_df, agumented_data]).drop_duplicates()))\n",
    "    return agumented_data\n",
    "\n",
    "agumented_data_v1 = augmente_data_v1(train_df, positive_df, [4,4,4])\n",
    "# agumented_data_v2 = augmente_data_v2(train_df, only_train_df, [1,1,1])\n",
    "agumented_data_v3 = augmente_data_v3(train_df, only_train_df, [1,1,1])\n",
    "agumented_data = pd.concat([agumented_data_v1, agumented_data_v3])"
   ]
  },
  {
   "cell_type": "code",
   "execution_count": 25,
   "metadata": {},
   "outputs": [
    {
     "data": {
      "text/plain": [
       "(417, 104688)"
      ]
     },
     "execution_count": 25,
     "metadata": {},
     "output_type": "execute_result"
    }
   ],
   "source": [
    "len(positive_df), len(agumented_data)"
   ]
  },
  {
   "cell_type": "code",
   "execution_count": 26,
   "metadata": {},
   "outputs": [
    {
     "data": {
      "text/plain": [
       "104460"
      ]
     },
     "execution_count": 26,
     "metadata": {},
     "output_type": "execute_result"
    }
   ],
   "source": [
    "len(pd.concat([train_df, agumented_data]).drop_duplicates())"
   ]
  },
  {
   "cell_type": "code",
   "execution_count": 27,
   "metadata": {},
   "outputs": [],
   "source": [
    "train_df = pd.concat([train_df, agumented_data]).drop_duplicates().sort_values('id')"
   ]
  },
  {
   "cell_type": "code",
   "execution_count": 28,
   "metadata": {
    "scrolled": false
   },
   "outputs": [
    {
     "data": {
      "text/plain": [
       "(104460, 20000)"
      ]
     },
     "execution_count": 28,
     "metadata": {},
     "output_type": "execute_result"
    }
   ],
   "source": [
    "n_train, n_test = len(train_df), len(test_df)\n",
    "n_train, n_test"
   ]
  },
  {
   "cell_type": "code",
   "execution_count": 29,
   "metadata": {},
   "outputs": [
    {
     "data": {
      "text/plain": [
       "Index(['id', 'label', 'province', 'district', 'age_source1', 'age_source2',\n",
       "       'maCv', 'FIELD_1', 'FIELD_2', 'FIELD_3', 'FIELD_4', 'FIELD_5',\n",
       "       'FIELD_6', 'FIELD_7', 'FIELD_8', 'FIELD_9', 'FIELD_10', 'FIELD_11',\n",
       "       'FIELD_12', 'FIELD_13', 'FIELD_14', 'FIELD_15', 'FIELD_16', 'FIELD_17',\n",
       "       'FIELD_18', 'FIELD_19', 'FIELD_20', 'FIELD_21', 'FIELD_22', 'FIELD_23',\n",
       "       'FIELD_24', 'FIELD_25', 'FIELD_26', 'FIELD_27', 'FIELD_28', 'FIELD_29',\n",
       "       'FIELD_30', 'FIELD_31', 'FIELD_32', 'FIELD_33', 'FIELD_34', 'FIELD_35',\n",
       "       'FIELD_36', 'FIELD_37', 'FIELD_38', 'FIELD_39', 'FIELD_40', 'FIELD_41',\n",
       "       'FIELD_42', 'FIELD_43', 'FIELD_44', 'FIELD_45', 'FIELD_46', 'FIELD_47',\n",
       "       'FIELD_48', 'FIELD_49', 'FIELD_50', 'FIELD_51', 'FIELD_52', 'FIELD_53',\n",
       "       'FIELD_54', 'FIELD_55', 'FIELD_56', 'FIELD_57', 'FIELD_6_cat',\n",
       "       'FIELD_16_cat', 'FIELD_21_cat', 'FIELD_50_cat', 'FIELD_54_cat'],\n",
       "      dtype='object')"
      ]
     },
     "execution_count": 29,
     "metadata": {},
     "output_type": "execute_result"
    }
   ],
   "source": [
    "train_df.columns"
   ]
  },
  {
   "cell_type": "code",
   "execution_count": 30,
   "metadata": {},
   "outputs": [
    {
     "data": {
      "text/html": [
       "<div>\n",
       "<style scoped>\n",
       "    .dataframe tbody tr th:only-of-type {\n",
       "        vertical-align: middle;\n",
       "    }\n",
       "\n",
       "    .dataframe tbody tr th {\n",
       "        vertical-align: top;\n",
       "    }\n",
       "\n",
       "    .dataframe thead th {\n",
       "        text-align: right;\n",
       "    }\n",
       "</style>\n",
       "<table border=\"1\" class=\"dataframe\">\n",
       "  <thead>\n",
       "    <tr style=\"text-align: right;\">\n",
       "      <th></th>\n",
       "      <th>province</th>\n",
       "      <th>district</th>\n",
       "      <th>maCv</th>\n",
       "      <th>FIELD_7</th>\n",
       "      <th>FIELD_8</th>\n",
       "      <th>FIELD_9</th>\n",
       "      <th>FIELD_10</th>\n",
       "      <th>FIELD_11</th>\n",
       "      <th>FIELD_12</th>\n",
       "      <th>FIELD_13</th>\n",
       "      <th>...</th>\n",
       "      <th>FIELD_39</th>\n",
       "      <th>FIELD_40</th>\n",
       "      <th>FIELD_41</th>\n",
       "      <th>FIELD_42</th>\n",
       "      <th>FIELD_43</th>\n",
       "      <th>FIELD_44</th>\n",
       "      <th>FIELD_45</th>\n",
       "      <th>FIELD_47</th>\n",
       "      <th>FIELD_48</th>\n",
       "      <th>FIELD_49</th>\n",
       "    </tr>\n",
       "  </thead>\n",
       "  <tbody>\n",
       "    <tr>\n",
       "      <th>12117</th>\n",
       "      <td>NaN</td>\n",
       "      <td>NaN</td>\n",
       "      <td>NaN</td>\n",
       "      <td>[]</td>\n",
       "      <td>NaN</td>\n",
       "      <td>na</td>\n",
       "      <td>NaN</td>\n",
       "      <td>NaN</td>\n",
       "      <td>NaN</td>\n",
       "      <td>NaN</td>\n",
       "      <td>...</td>\n",
       "      <td>NaN</td>\n",
       "      <td>NaN</td>\n",
       "      <td>NaN</td>\n",
       "      <td>Zezo</td>\n",
       "      <td>NaN</td>\n",
       "      <td>NaN</td>\n",
       "      <td>NaN</td>\n",
       "      <td>True</td>\n",
       "      <td>True</td>\n",
       "      <td>True</td>\n",
       "    </tr>\n",
       "    <tr>\n",
       "      <th>12910</th>\n",
       "      <td>NaN</td>\n",
       "      <td>NaN</td>\n",
       "      <td>NaN</td>\n",
       "      <td>[]</td>\n",
       "      <td>NaN</td>\n",
       "      <td>na</td>\n",
       "      <td>NaN</td>\n",
       "      <td>NaN</td>\n",
       "      <td>NaN</td>\n",
       "      <td>NaN</td>\n",
       "      <td>...</td>\n",
       "      <td>NaN</td>\n",
       "      <td>NaN</td>\n",
       "      <td>NaN</td>\n",
       "      <td>NaN</td>\n",
       "      <td>NaN</td>\n",
       "      <td>NaN</td>\n",
       "      <td>NaN</td>\n",
       "      <td>False</td>\n",
       "      <td>False</td>\n",
       "      <td>True</td>\n",
       "    </tr>\n",
       "    <tr>\n",
       "      <th>17030</th>\n",
       "      <td>Tỉnh Khánh Hòa</td>\n",
       "      <td>NaN</td>\n",
       "      <td>Công nhân hàn</td>\n",
       "      <td>[]</td>\n",
       "      <td>FEMALE</td>\n",
       "      <td>DN</td>\n",
       "      <td>T1</td>\n",
       "      <td>8</td>\n",
       "      <td>None</td>\n",
       "      <td>TA</td>\n",
       "      <td>...</td>\n",
       "      <td>None</td>\n",
       "      <td>None</td>\n",
       "      <td>I</td>\n",
       "      <td>Zezo</td>\n",
       "      <td>None</td>\n",
       "      <td>One</td>\n",
       "      <td>1</td>\n",
       "      <td>False</td>\n",
       "      <td>True</td>\n",
       "      <td>False</td>\n",
       "    </tr>\n",
       "    <tr>\n",
       "      <th>6667</th>\n",
       "      <td>Thành phố Hồ Chí Minh</td>\n",
       "      <td>NaN</td>\n",
       "      <td>NaN</td>\n",
       "      <td>[]</td>\n",
       "      <td>NaN</td>\n",
       "      <td>na</td>\n",
       "      <td>NaN</td>\n",
       "      <td>NaN</td>\n",
       "      <td>NaN</td>\n",
       "      <td>NaN</td>\n",
       "      <td>...</td>\n",
       "      <td>NaN</td>\n",
       "      <td>NaN</td>\n",
       "      <td>NaN</td>\n",
       "      <td>NaN</td>\n",
       "      <td>None</td>\n",
       "      <td>NaN</td>\n",
       "      <td>NaN</td>\n",
       "      <td>False</td>\n",
       "      <td>False</td>\n",
       "      <td>True</td>\n",
       "    </tr>\n",
       "    <tr>\n",
       "      <th>17676</th>\n",
       "      <td>NaN</td>\n",
       "      <td>NaN</td>\n",
       "      <td>NaN</td>\n",
       "      <td>[]</td>\n",
       "      <td>NaN</td>\n",
       "      <td>na</td>\n",
       "      <td>NaN</td>\n",
       "      <td>NaN</td>\n",
       "      <td>NaN</td>\n",
       "      <td>NaN</td>\n",
       "      <td>...</td>\n",
       "      <td>NaN</td>\n",
       "      <td>NaN</td>\n",
       "      <td>I</td>\n",
       "      <td>NaN</td>\n",
       "      <td>NaN</td>\n",
       "      <td>One</td>\n",
       "      <td>NaN</td>\n",
       "      <td>False</td>\n",
       "      <td>False</td>\n",
       "      <td>True</td>\n",
       "    </tr>\n",
       "    <tr>\n",
       "      <th>9639</th>\n",
       "      <td>NaN</td>\n",
       "      <td>NaN</td>\n",
       "      <td>NaN</td>\n",
       "      <td>[]</td>\n",
       "      <td>NaN</td>\n",
       "      <td>na</td>\n",
       "      <td>T1</td>\n",
       "      <td>NaN</td>\n",
       "      <td>NaN</td>\n",
       "      <td>NaN</td>\n",
       "      <td>...</td>\n",
       "      <td>None</td>\n",
       "      <td>NaN</td>\n",
       "      <td>NaN</td>\n",
       "      <td>NaN</td>\n",
       "      <td>NaN</td>\n",
       "      <td>NaN</td>\n",
       "      <td>NaN</td>\n",
       "      <td>True</td>\n",
       "      <td>True</td>\n",
       "      <td>True</td>\n",
       "    </tr>\n",
       "    <tr>\n",
       "      <th>24160</th>\n",
       "      <td>NaN</td>\n",
       "      <td>Thành phố Biên Hòa</td>\n",
       "      <td>Nhân viên kinh doanh kênh trả góp</td>\n",
       "      <td>[]</td>\n",
       "      <td>FEMALE</td>\n",
       "      <td>na</td>\n",
       "      <td>NaN</td>\n",
       "      <td>NaN</td>\n",
       "      <td>NaN</td>\n",
       "      <td>NaN</td>\n",
       "      <td>...</td>\n",
       "      <td>NaN</td>\n",
       "      <td>NaN</td>\n",
       "      <td>NaN</td>\n",
       "      <td>NaN</td>\n",
       "      <td>NaN</td>\n",
       "      <td>NaN</td>\n",
       "      <td>NaN</td>\n",
       "      <td>True</td>\n",
       "      <td>True</td>\n",
       "      <td>True</td>\n",
       "    </tr>\n",
       "    <tr>\n",
       "      <th>1539</th>\n",
       "      <td>NaN</td>\n",
       "      <td>NaN</td>\n",
       "      <td>NaN</td>\n",
       "      <td>[]</td>\n",
       "      <td>FEMALE</td>\n",
       "      <td>na</td>\n",
       "      <td>NaN</td>\n",
       "      <td>NaN</td>\n",
       "      <td>NaN</td>\n",
       "      <td>NaN</td>\n",
       "      <td>...</td>\n",
       "      <td>NaN</td>\n",
       "      <td>NaN</td>\n",
       "      <td>I</td>\n",
       "      <td>NaN</td>\n",
       "      <td>NaN</td>\n",
       "      <td>One</td>\n",
       "      <td>NaN</td>\n",
       "      <td>False</td>\n",
       "      <td>False</td>\n",
       "      <td>True</td>\n",
       "    </tr>\n",
       "    <tr>\n",
       "      <th>7527</th>\n",
       "      <td>NaN</td>\n",
       "      <td>NaN</td>\n",
       "      <td>NaN</td>\n",
       "      <td>[]</td>\n",
       "      <td>MALE</td>\n",
       "      <td>na</td>\n",
       "      <td>NaN</td>\n",
       "      <td>NaN</td>\n",
       "      <td>NaN</td>\n",
       "      <td>NaN</td>\n",
       "      <td>...</td>\n",
       "      <td>NaN</td>\n",
       "      <td>NaN</td>\n",
       "      <td>NaN</td>\n",
       "      <td>NaN</td>\n",
       "      <td>NaN</td>\n",
       "      <td>NaN</td>\n",
       "      <td>NaN</td>\n",
       "      <td>True</td>\n",
       "      <td>True</td>\n",
       "      <td>True</td>\n",
       "    </tr>\n",
       "    <tr>\n",
       "      <th>21015</th>\n",
       "      <td>NaN</td>\n",
       "      <td>Huyện Giồng Trôm</td>\n",
       "      <td>NaN</td>\n",
       "      <td>NaN</td>\n",
       "      <td>NaN</td>\n",
       "      <td>na</td>\n",
       "      <td>T1</td>\n",
       "      <td>NaN</td>\n",
       "      <td>NaN</td>\n",
       "      <td>NaN</td>\n",
       "      <td>...</td>\n",
       "      <td>NaN</td>\n",
       "      <td>NaN</td>\n",
       "      <td>NaN</td>\n",
       "      <td>NaN</td>\n",
       "      <td>None</td>\n",
       "      <td>NaN</td>\n",
       "      <td>NaN</td>\n",
       "      <td>False</td>\n",
       "      <td>False</td>\n",
       "      <td>True</td>\n",
       "    </tr>\n",
       "  </tbody>\n",
       "</table>\n",
       "<p>10 rows × 37 columns</p>\n",
       "</div>"
      ],
      "text/plain": [
       "                    province            district  \\\n",
       "12117                    NaN                 NaN   \n",
       "12910                    NaN                 NaN   \n",
       "17030         Tỉnh Khánh Hòa                 NaN   \n",
       "6667   Thành phố Hồ Chí Minh                 NaN   \n",
       "17676                    NaN                 NaN   \n",
       "9639                     NaN                 NaN   \n",
       "24160                    NaN  Thành phố Biên Hòa   \n",
       "1539                     NaN                 NaN   \n",
       "7527                     NaN                 NaN   \n",
       "21015                    NaN    Huyện Giồng Trôm   \n",
       "\n",
       "                                    maCv FIELD_7 FIELD_8 FIELD_9 FIELD_10  \\\n",
       "12117                                NaN      []     NaN      na      NaN   \n",
       "12910                                NaN      []     NaN      na      NaN   \n",
       "17030                      Công nhân hàn      []  FEMALE      DN       T1   \n",
       "6667                                 NaN      []     NaN      na      NaN   \n",
       "17676                                NaN      []     NaN      na      NaN   \n",
       "9639                                 NaN      []     NaN      na       T1   \n",
       "24160  Nhân viên kinh doanh kênh trả góp      []  FEMALE      na      NaN   \n",
       "1539                                 NaN      []  FEMALE      na      NaN   \n",
       "7527                                 NaN      []    MALE      na      NaN   \n",
       "21015                                NaN     NaN     NaN      na       T1   \n",
       "\n",
       "      FIELD_11 FIELD_12 FIELD_13  ... FIELD_39 FIELD_40 FIELD_41 FIELD_42  \\\n",
       "12117      NaN      NaN      NaN  ...      NaN      NaN      NaN     Zezo   \n",
       "12910      NaN      NaN      NaN  ...      NaN      NaN      NaN      NaN   \n",
       "17030        8     None       TA  ...     None     None        I     Zezo   \n",
       "6667       NaN      NaN      NaN  ...      NaN      NaN      NaN      NaN   \n",
       "17676      NaN      NaN      NaN  ...      NaN      NaN        I      NaN   \n",
       "9639       NaN      NaN      NaN  ...     None      NaN      NaN      NaN   \n",
       "24160      NaN      NaN      NaN  ...      NaN      NaN      NaN      NaN   \n",
       "1539       NaN      NaN      NaN  ...      NaN      NaN        I      NaN   \n",
       "7527       NaN      NaN      NaN  ...      NaN      NaN      NaN      NaN   \n",
       "21015      NaN      NaN      NaN  ...      NaN      NaN      NaN      NaN   \n",
       "\n",
       "      FIELD_43 FIELD_44 FIELD_45 FIELD_47 FIELD_48 FIELD_49  \n",
       "12117      NaN      NaN      NaN     True     True     True  \n",
       "12910      NaN      NaN      NaN    False    False     True  \n",
       "17030     None      One        1    False     True    False  \n",
       "6667      None      NaN      NaN    False    False     True  \n",
       "17676      NaN      One      NaN    False    False     True  \n",
       "9639       NaN      NaN      NaN     True     True     True  \n",
       "24160      NaN      NaN      NaN     True     True     True  \n",
       "1539       NaN      One      NaN    False    False     True  \n",
       "7527       NaN      NaN      NaN     True     True     True  \n",
       "21015     None      NaN      NaN    False    False     True  \n",
       "\n",
       "[10 rows x 37 columns]"
      ]
     },
     "execution_count": 30,
     "metadata": {},
     "output_type": "execute_result"
    }
   ],
   "source": [
    "train_df[train_df.label == 1].sample(10)[['province', 'district', 'maCv', 'FIELD_7', 'FIELD_8', 'FIELD_9', 'FIELD_10', 'FIELD_11', 'FIELD_12', 'FIELD_13', 'FIELD_17', 'FIELD_18', 'FIELD_19', 'FIELD_20', 'FIELD_23', 'FIELD_24', 'FIELD_25', 'FIELD_26', 'FIELD_27', 'FIELD_28', 'FIELD_29', 'FIELD_30', 'FIELD_31', 'FIELD_35', 'FIELD_36', 'FIELD_37', 'FIELD_38', 'FIELD_39', 'FIELD_40', 'FIELD_41', 'FIELD_42', 'FIELD_43', 'FIELD_44', 'FIELD_45', 'FIELD_47', 'FIELD_48', 'FIELD_49']]"
   ]
  },
  {
   "cell_type": "code",
   "execution_count": 31,
   "metadata": {},
   "outputs": [],
   "source": [
    "label_df = train_df['label']\n",
    "del train_df['label']"
   ]
  },
  {
   "cell_type": "code",
   "execution_count": 32,
   "metadata": {},
   "outputs": [
    {
     "name": "stderr",
     "output_type": "stream",
     "text": [
      "/home/ubuntu/anaconda3/envs/thanos/lib/python3.6/site-packages/ipykernel_launcher.py:1: FutureWarning: Sorting because non-concatenation axis is not aligned. A future version\n",
      "of pandas will change to not sort by default.\n",
      "\n",
      "To accept the future behavior, pass 'sort=False'.\n",
      "\n",
      "To retain the current behavior and silence the warning, pass 'sort=True'.\n",
      "\n",
      "  \"\"\"Entry point for launching an IPython kernel.\n"
     ]
    },
    {
     "data": {
      "text/plain": [
       "124460"
      ]
     },
     "execution_count": 32,
     "metadata": {},
     "output_type": "execute_result"
    }
   ],
   "source": [
    "df = pd.concat([train_df, test_df]); len(df)"
   ]
  },
  {
   "cell_type": "code",
   "execution_count": 33,
   "metadata": {
    "scrolled": false
   },
   "outputs": [],
   "source": [
    "original_columns = list(df.columns)\n",
    "original_columns.remove('id')"
   ]
  },
  {
   "cell_type": "markdown",
   "metadata": {},
   "source": [
    "### Lower and unicode all columns"
   ]
  },
  {
   "cell_type": "code",
   "execution_count": 34,
   "metadata": {
    "scrolled": true
   },
   "outputs": [],
   "source": [
    "for c in original_columns:\n",
    "    not_na_id = df[c].notna()\n",
    "    try:\n",
    "        df.loc[not_na_id, c] = df[not_na_id][c].str.lower().apply(lambda x: re.sub(' +', ' ', unidecode.unidecode(x)))\n",
    "    except BaseException as e:\n",
    "        pass"
   ]
  },
  {
   "cell_type": "code",
   "execution_count": 35,
   "metadata": {
    "scrolled": true
   },
   "outputs": [
    {
     "data": {
      "text/plain": [
       "124460"
      ]
     },
     "execution_count": 35,
     "metadata": {},
     "output_type": "execute_result"
    }
   ],
   "source": [
    "len(df)"
   ]
  },
  {
   "cell_type": "markdown",
   "metadata": {},
   "source": [
    "## Categorical & Boolean Features"
   ]
  },
  {
   "cell_type": "markdown",
   "metadata": {},
   "source": [
    "#### 1. Missing and None values"
   ]
  },
  {
   "cell_type": "markdown",
   "metadata": {},
   "source": [
    "#### Count isna and none columns"
   ]
  },
  {
   "cell_type": "code",
   "execution_count": 36,
   "metadata": {},
   "outputs": [],
   "source": [
    "### count isna columns\n",
    "for c in original_columns:\n",
    "    df[f\"{c}_isna\"] = df[c].isna()\n",
    "    \n",
    "df['n_cat_na'] = df[cat_features].isnull().sum(axis=1)\n",
    "df['n_boolean_na'] = df[bool_features].isnull().sum(axis=1)"
   ]
  },
  {
   "cell_type": "code",
   "execution_count": 37,
   "metadata": {
    "scrolled": true
   },
   "outputs": [
    {
     "name": "stderr",
     "output_type": "stream",
     "text": [
      "/home/ubuntu/anaconda3/envs/thanos/lib/python3.6/site-packages/pandas/core/ops/__init__.py:1115: FutureWarning: elementwise comparison failed; returning scalar instead, but in the future will perform elementwise comparison\n",
      "  result = method(y)\n"
     ]
    }
   ],
   "source": [
    "### count none columns\n",
    "df['n_cat_none'] = df[cat_features].apply(lambda xs: len([x for x in xs if x == 'none' or x == 'na']), axis=1)\n",
    "df['n_boolean_none'] = df[bool_features].apply(lambda xs: len([x for x in xs if x == 'none' or x == 'na']), axis=1)\n",
    "for c in original_columns:\n",
    "    df[f\"{c}_isnone\"] = df[c] == 'none'"
   ]
  },
  {
   "cell_type": "code",
   "execution_count": 38,
   "metadata": {
    "scrolled": true
   },
   "outputs": [
    {
     "data": {
      "text/html": [
       "<div>\n",
       "<style scoped>\n",
       "    .dataframe tbody tr th:only-of-type {\n",
       "        vertical-align: middle;\n",
       "    }\n",
       "\n",
       "    .dataframe tbody tr th {\n",
       "        vertical-align: top;\n",
       "    }\n",
       "\n",
       "    .dataframe thead th {\n",
       "        text-align: right;\n",
       "    }\n",
       "</style>\n",
       "<table border=\"1\" class=\"dataframe\">\n",
       "  <thead>\n",
       "    <tr style=\"text-align: right;\">\n",
       "      <th></th>\n",
       "      <th>FIELD_1</th>\n",
       "      <th>FIELD_10</th>\n",
       "      <th>FIELD_11</th>\n",
       "      <th>FIELD_12</th>\n",
       "      <th>FIELD_13</th>\n",
       "      <th>FIELD_14</th>\n",
       "      <th>FIELD_15</th>\n",
       "      <th>FIELD_16</th>\n",
       "      <th>FIELD_16_cat</th>\n",
       "      <th>FIELD_17</th>\n",
       "      <th>...</th>\n",
       "      <th>FIELD_6_isnone</th>\n",
       "      <th>FIELD_6_cat_isnone</th>\n",
       "      <th>FIELD_7_isnone</th>\n",
       "      <th>FIELD_8_isnone</th>\n",
       "      <th>FIELD_9_isnone</th>\n",
       "      <th>age_source1_isnone</th>\n",
       "      <th>age_source2_isnone</th>\n",
       "      <th>district_isnone</th>\n",
       "      <th>maCv_isnone</th>\n",
       "      <th>province_isnone</th>\n",
       "    </tr>\n",
       "  </thead>\n",
       "  <tbody>\n",
       "    <tr>\n",
       "      <th>7118</th>\n",
       "      <td>1</td>\n",
       "      <td>gh</td>\n",
       "      <td>24</td>\n",
       "      <td>0</td>\n",
       "      <td>ha</td>\n",
       "      <td>0</td>\n",
       "      <td>0</td>\n",
       "      <td>1.0</td>\n",
       "      <td>a</td>\n",
       "      <td>none</td>\n",
       "      <td>...</td>\n",
       "      <td>False</td>\n",
       "      <td>False</td>\n",
       "      <td>False</td>\n",
       "      <td>False</td>\n",
       "      <td>False</td>\n",
       "      <td>False</td>\n",
       "      <td>False</td>\n",
       "      <td>False</td>\n",
       "      <td>False</td>\n",
       "      <td>False</td>\n",
       "    </tr>\n",
       "    <tr>\n",
       "      <th>24791</th>\n",
       "      <td>0</td>\n",
       "      <td>gh</td>\n",
       "      <td>0</td>\n",
       "      <td>0</td>\n",
       "      <td>yn</td>\n",
       "      <td>0</td>\n",
       "      <td>0</td>\n",
       "      <td>1.0</td>\n",
       "      <td>a</td>\n",
       "      <td>none</td>\n",
       "      <td>...</td>\n",
       "      <td>False</td>\n",
       "      <td>False</td>\n",
       "      <td>False</td>\n",
       "      <td>False</td>\n",
       "      <td>False</td>\n",
       "      <td>False</td>\n",
       "      <td>False</td>\n",
       "      <td>False</td>\n",
       "      <td>True</td>\n",
       "      <td>False</td>\n",
       "    </tr>\n",
       "    <tr>\n",
       "      <th>9307</th>\n",
       "      <td>1</td>\n",
       "      <td>NaN</td>\n",
       "      <td>NaN</td>\n",
       "      <td>NaN</td>\n",
       "      <td>NaN</td>\n",
       "      <td>1</td>\n",
       "      <td>1</td>\n",
       "      <td>NaN</td>\n",
       "      <td>NaN</td>\n",
       "      <td>NaN</td>\n",
       "      <td>...</td>\n",
       "      <td>False</td>\n",
       "      <td>False</td>\n",
       "      <td>False</td>\n",
       "      <td>False</td>\n",
       "      <td>False</td>\n",
       "      <td>False</td>\n",
       "      <td>False</td>\n",
       "      <td>False</td>\n",
       "      <td>False</td>\n",
       "      <td>False</td>\n",
       "    </tr>\n",
       "  </tbody>\n",
       "</table>\n",
       "<p>3 rows × 206 columns</p>\n",
       "</div>"
      ],
      "text/plain": [
       "       FIELD_1 FIELD_10 FIELD_11 FIELD_12 FIELD_13  FIELD_14  FIELD_15  \\\n",
       "7118         1       gh       24        0       ha         0         0   \n",
       "24791        0       gh        0        0       yn         0         0   \n",
       "9307         1      NaN      NaN      NaN      NaN         1         1   \n",
       "\n",
       "       FIELD_16 FIELD_16_cat FIELD_17  ... FIELD_6_isnone FIELD_6_cat_isnone  \\\n",
       "7118        1.0            a     none  ...          False              False   \n",
       "24791       1.0            a     none  ...          False              False   \n",
       "9307        NaN          NaN      NaN  ...          False              False   \n",
       "\n",
       "       FIELD_7_isnone FIELD_8_isnone  FIELD_9_isnone age_source1_isnone  \\\n",
       "7118            False          False           False              False   \n",
       "24791           False          False           False              False   \n",
       "9307            False          False           False              False   \n",
       "\n",
       "       age_source2_isnone district_isnone maCv_isnone province_isnone  \n",
       "7118                False           False       False           False  \n",
       "24791               False           False        True           False  \n",
       "9307                False           False       False           False  \n",
       "\n",
       "[3 rows x 206 columns]"
      ]
     },
     "execution_count": 38,
     "metadata": {},
     "output_type": "execute_result"
    }
   ],
   "source": [
    "df.sample(3)"
   ]
  },
  {
   "cell_type": "code",
   "execution_count": null,
   "metadata": {},
   "outputs": [],
   "source": []
  },
  {
   "cell_type": "code",
   "execution_count": 39,
   "metadata": {},
   "outputs": [],
   "source": [
    "assert len(df) == n_train + n_test"
   ]
  },
  {
   "cell_type": "markdown",
   "metadata": {},
   "source": [
    "#### 2.Ordinal categorical features"
   ]
  },
  {
   "cell_type": "code",
   "execution_count": 40,
   "metadata": {},
   "outputs": [
    {
     "name": "stdout",
     "output_type": "stream",
     "text": [
      "FIELD_35 {nan, 'four', 'zero', 'one', 'two', 'three'}\n",
      "FIELD_41 {nan, 'iii', 'iv', 'i', 'v', 'ii', 'none'}\n",
      "FIELD_42 {nan, 'zezo', 'none', 'one'}\n",
      "FIELD_43 {nan, 'a', 'd', '0', 'b', '5', 'none', 'c'}\n",
      "FIELD_44 {nan, 'two', 'none', 'one'}\n"
     ]
    }
   ],
   "source": [
    "for c in ['FIELD_35', 'FIELD_41', 'FIELD_42', 'FIELD_43', 'FIELD_44']:\n",
    "    print(c, set(df[c]))\n",
    "ordinal_map = {'zezo': 0, '0': 0, 'zero': 0,\n",
    "               'one': 1, 'i': 1, 'a': 1,\n",
    "               'two': 2, 'ii': 2, 'b': 2,\n",
    "               'three': 3, 'iii': 3, 'c': 3,\n",
    "               'four': 4, 'iv': 4, 'd': 4,\n",
    "               '5': 5, 'v': 5}\n",
    "ordinal_features = []\n",
    "for c in ['FIELD_35', 'FIELD_41', 'FIELD_42', 'FIELD_43', 'FIELD_44']:\n",
    "    ordinal_features.append(f\"{c}_Ordinal\")\n",
    "#     df[f\"{c}_Ordinal\"] = df[c].apply(lambda x: ordinal_map[x] if x in ordinal_map else x)"
   ]
  },
  {
   "cell_type": "markdown",
   "metadata": {},
   "source": [
    "#### 3.Ordinal categorical features"
   ]
  },
  {
   "cell_type": "code",
   "execution_count": 41,
   "metadata": {},
   "outputs": [],
   "source": [
    "df.loc[:, cat_features] = df[cat_features].fillna('missing')"
   ]
  },
  {
   "cell_type": "markdown",
   "metadata": {},
   "source": [
    "#### 4. Categorical features với nhiều hơn 10 unique values - Count Encoding"
   ]
  },
  {
   "cell_type": "code",
   "execution_count": 42,
   "metadata": {},
   "outputs": [],
   "source": [
    "from collections import Counter\n",
    "from exp.nb_01 import cv_mapper\n",
    "\n",
    "not_na_id = df.maCv.notna()\n",
    "for k, v in cv_mapper.items():\n",
    "    df.loc[not_na_id, 'maCv'] = df[not_na_id].maCv.apply(lambda x: v if k in x else x)"
   ]
  },
  {
   "cell_type": "code",
   "execution_count": 43,
   "metadata": {
    "scrolled": true
   },
   "outputs": [],
   "source": [
    "for c in cat_features:\n",
    "    if c != 'FIELD_7':\n",
    "        temp = df.groupby(c).size().reset_index()\n",
    "        temp.columns = [c, f\"{c}_CE\"]\n",
    "        df = df.merge(temp)"
   ]
  },
  {
   "cell_type": "code",
   "execution_count": 44,
   "metadata": {},
   "outputs": [],
   "source": [
    "df.sort_values('id', inplace=True)"
   ]
  },
  {
   "cell_type": "code",
   "execution_count": 45,
   "metadata": {},
   "outputs": [],
   "source": [
    "assert len(df) == n_train + n_test"
   ]
  },
  {
   "cell_type": "markdown",
   "metadata": {},
   "source": [
    "### Province, District"
   ]
  },
  {
   "cell_type": "code",
   "execution_count": 46,
   "metadata": {},
   "outputs": [],
   "source": [
    "df['is_city'] = df.province.str.contains('thanh pho') | df.district.str.contains('thanh pho')"
   ]
  },
  {
   "cell_type": "markdown",
   "metadata": {},
   "source": [
    "### Age_source 1 2"
   ]
  },
  {
   "cell_type": "code",
   "execution_count": 47,
   "metadata": {},
   "outputs": [],
   "source": [
    "df['age1_less_18'] = df['age_source1'] < 18\n",
    "df['age2_less_18'] = df['age_source2'] < 18\n",
    "\n",
    "df['age1_gt_65'] = df['age_source1'] > 65\n",
    "df['age2_gt_65'] = df['age_source2'] > 65\n",
    "df['age_mean'] = (df['age_source1'] + df['age_source2']) / 2"
   ]
  },
  {
   "cell_type": "markdown",
   "metadata": {},
   "source": [
    "### Numerical Features"
   ]
  },
  {
   "cell_type": "code",
   "execution_count": 48,
   "metadata": {},
   "outputs": [],
   "source": [
    "for c in num_features:\n",
    "    df[c] = df[c].apply(lambda x: -1 if x == 'none' else x)"
   ]
  },
  {
   "cell_type": "markdown",
   "metadata": {},
   "source": [
    "#### Impute missing values"
   ]
  },
  {
   "cell_type": "code",
   "execution_count": 49,
   "metadata": {},
   "outputs": [],
   "source": [
    "for c in num_features:\n",
    "    try:\n",
    "        df[c] = df[c].astype('float64')\n",
    "        df[f\"{c}_IM_const\"] = df[c].fillna(-1)\n",
    "        df[f\"{c}_IM_mean\"] = df[c].fillna(df[c].mean())\n",
    "        df[f\"{c}_IM_median\"] = df[c].fillna(df[c].median())\n",
    "    except:\n",
    "        print(c)"
   ]
  },
  {
   "cell_type": "markdown",
   "metadata": {},
   "source": [
    "### FIELD"
   ]
  },
  {
   "cell_type": "markdown",
   "metadata": {},
   "source": [
    "### FIELD_7"
   ]
  },
  {
   "cell_type": "code",
   "execution_count": 50,
   "metadata": {},
   "outputs": [],
   "source": [
    "df['FIELD_7'] = df[['FIELD_7']].fillna('[]')"
   ]
  },
  {
   "cell_type": "code",
   "execution_count": 51,
   "metadata": {},
   "outputs": [],
   "source": [
    "df['FIELD_7'] = df['FIELD_7'].apply(lambda x: x.replace(\"'\", '').replace('[', '').replace(']', '').split(', '))\n",
    "df['FIELD_7'] = df['FIELD_7'].apply(lambda xs: [x for x in xs if x != ''])"
   ]
  },
  {
   "cell_type": "code",
   "execution_count": 52,
   "metadata": {},
   "outputs": [],
   "source": [
    "df['FIELD_9_IN_7'] = df[['FIELD_7', 'FIELD_9']].apply(lambda xs: xs[1] in xs[0], axis=1)"
   ]
  },
  {
   "cell_type": "code",
   "execution_count": 53,
   "metadata": {},
   "outputs": [],
   "source": [
    "df['len_f7'] = df['FIELD_7'].apply(lambda x: len(x))"
   ]
  },
  {
   "cell_type": "code",
   "execution_count": 54,
   "metadata": {},
   "outputs": [],
   "source": [
    "value_f7 = set([x for xs in df['FIELD_7'] for x in xs])"
   ]
  },
  {
   "cell_type": "code",
   "execution_count": 55,
   "metadata": {},
   "outputs": [],
   "source": [
    "df['FIELD_7_temp'] = df['FIELD_7'].apply(lambda x: Counter(x))"
   ]
  },
  {
   "cell_type": "code",
   "execution_count": 56,
   "metadata": {},
   "outputs": [],
   "source": [
    "for v in value_f7:\n",
    "    df[f\"f7_{v}\"] = df['FIELD_7_temp'].apply(lambda c: c[v])"
   ]
  },
  {
   "cell_type": "code",
   "execution_count": 57,
   "metadata": {},
   "outputs": [],
   "source": [
    "for v in value_f7:\n",
    "    df[f\"f7_{v}_boolean\"] = df['FIELD_7'].apply(lambda x: v in x)"
   ]
  },
  {
   "cell_type": "code",
   "execution_count": 58,
   "metadata": {},
   "outputs": [],
   "source": [
    "del df['FIELD_7']\n",
    "del df['FIELD_7_temp']"
   ]
  },
  {
   "cell_type": "code",
   "execution_count": 59,
   "metadata": {},
   "outputs": [
    {
     "data": {
      "text/plain": [
       "124460"
      ]
     },
     "execution_count": 59,
     "metadata": {},
     "output_type": "execute_result"
    }
   ],
   "source": [
    "len(df)"
   ]
  },
  {
   "cell_type": "code",
   "execution_count": 60,
   "metadata": {},
   "outputs": [
    {
     "data": {
      "text/plain": [
       "124460"
      ]
     },
     "execution_count": 60,
     "metadata": {},
     "output_type": "execute_result"
    }
   ],
   "source": [
    "len(df.drop_duplicates())"
   ]
  },
  {
   "cell_type": "code",
   "execution_count": 61,
   "metadata": {},
   "outputs": [],
   "source": [
    "write_down_features(df, label_df)"
   ]
  },
  {
   "cell_type": "code",
   "execution_count": 62,
   "metadata": {},
   "outputs": [
    {
     "name": "stdout",
     "output_type": "stream",
     "text": [
      "Converted 05_enrich_feature.ipynb to exp/nb_05.py\r\n"
     ]
    }
   ],
   "source": [
    "!python notebook2script.py 05_enrich_feature.ipynb"
   ]
  }
 ],
 "metadata": {
  "kernelspec": {
   "display_name": "Python 3",
   "language": "python",
   "name": "python3"
  },
  "language_info": {
   "codemirror_mode": {
    "name": "ipython",
    "version": 3
   },
   "file_extension": ".py",
   "mimetype": "text/x-python",
   "name": "python",
   "nbconvert_exporter": "python",
   "pygments_lexer": "ipython3",
   "version": "3.6.8"
  }
 },
 "nbformat": 4,
 "nbformat_minor": 2
}
