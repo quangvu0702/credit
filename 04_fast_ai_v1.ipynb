{
 "cells": [
  {
   "cell_type": "code",
   "execution_count": 1,
   "metadata": {},
   "outputs": [],
   "source": [
    "%load_ext autoreload\n",
    "%autoreload 2"
   ]
  },
  {
   "cell_type": "code",
   "execution_count": 2,
   "metadata": {},
   "outputs": [],
   "source": [
    "from fastai import *\n",
    "from fastai.tabular import *\n",
    "import numpy as np"
   ]
  },
  {
   "cell_type": "code",
   "execution_count": 3,
   "metadata": {},
   "outputs": [],
   "source": [
    "from exp.nb_01 import load_data\n",
    "from exp.nb_02 import gini_score"
   ]
  },
  {
   "cell_type": "code",
   "execution_count": 4,
   "metadata": {},
   "outputs": [
    {
     "name": "stderr",
     "output_type": "stream",
     "text": [
      "/home/vule/miniconda3/envs/thanos/lib/python3.6/site-packages/IPython/core/interactiveshell.py:3214: DtypeWarning: Columns (51) have mixed types. Specify dtype option on import or set low_memory=False.\n",
      "  if (yield from self.run_code(code, result)):\n",
      "/home/vule/miniconda3/envs/thanos/lib/python3.6/site-packages/IPython/core/interactiveshell.py:3214: DtypeWarning: Columns (50) have mixed types. Specify dtype option on import or set low_memory=False.\n",
      "  if (yield from self.run_code(code, result)):\n"
     ]
    }
   ],
   "source": [
    "train_df, test_df = load_data(keep_df=True)"
   ]
  },
  {
   "cell_type": "code",
   "execution_count": 5,
   "metadata": {
    "scrolled": true
   },
   "outputs": [
    {
     "data": {
      "text/html": [
       "<div>\n",
       "<style scoped>\n",
       "    .dataframe tbody tr th:only-of-type {\n",
       "        vertical-align: middle;\n",
       "    }\n",
       "\n",
       "    .dataframe tbody tr th {\n",
       "        vertical-align: top;\n",
       "    }\n",
       "\n",
       "    .dataframe thead th {\n",
       "        text-align: right;\n",
       "    }\n",
       "</style>\n",
       "<table border=\"1\" class=\"dataframe\">\n",
       "  <thead>\n",
       "    <tr style=\"text-align: right;\">\n",
       "      <th></th>\n",
       "      <th>id</th>\n",
       "      <th>label</th>\n",
       "      <th>province</th>\n",
       "      <th>district</th>\n",
       "      <th>age_source1</th>\n",
       "      <th>age_source2</th>\n",
       "      <th>maCv</th>\n",
       "      <th>FIELD_1</th>\n",
       "      <th>FIELD_2</th>\n",
       "      <th>FIELD_3</th>\n",
       "      <th>...</th>\n",
       "      <th>FIELD_48</th>\n",
       "      <th>FIELD_49</th>\n",
       "      <th>FIELD_50</th>\n",
       "      <th>FIELD_51</th>\n",
       "      <th>FIELD_52</th>\n",
       "      <th>FIELD_53</th>\n",
       "      <th>FIELD_54</th>\n",
       "      <th>FIELD_55</th>\n",
       "      <th>FIELD_56</th>\n",
       "      <th>FIELD_57</th>\n",
       "    </tr>\n",
       "  </thead>\n",
       "  <tbody>\n",
       "    <tr>\n",
       "      <th>0</th>\n",
       "      <td>0</td>\n",
       "      <td>0</td>\n",
       "      <td>NaN</td>\n",
       "      <td>NaN</td>\n",
       "      <td>NaN</td>\n",
       "      <td>NaN</td>\n",
       "      <td>NaN</td>\n",
       "      <td>1</td>\n",
       "      <td>1.0</td>\n",
       "      <td>2547.0</td>\n",
       "      <td>...</td>\n",
       "      <td>True</td>\n",
       "      <td>True</td>\n",
       "      <td>NaN</td>\n",
       "      <td>NaN</td>\n",
       "      <td>NaN</td>\n",
       "      <td>NaN</td>\n",
       "      <td>NaN</td>\n",
       "      <td>NaN</td>\n",
       "      <td>NaN</td>\n",
       "      <td>NaN</td>\n",
       "    </tr>\n",
       "    <tr>\n",
       "      <th>1</th>\n",
       "      <td>1</td>\n",
       "      <td>0</td>\n",
       "      <td>Tỉnh Đồng Nai</td>\n",
       "      <td>Thành phố Biên Hòa</td>\n",
       "      <td>44.0</td>\n",
       "      <td>44.0</td>\n",
       "      <td>None</td>\n",
       "      <td>1</td>\n",
       "      <td>0.0</td>\n",
       "      <td>-1.0</td>\n",
       "      <td>...</td>\n",
       "      <td>False</td>\n",
       "      <td>True</td>\n",
       "      <td>29.77</td>\n",
       "      <td>17.561</td>\n",
       "      <td>30.955</td>\n",
       "      <td>31.171</td>\n",
       "      <td>0.0</td>\n",
       "      <td>0.04</td>\n",
       "      <td>0.0</td>\n",
       "      <td>0.0</td>\n",
       "    </tr>\n",
       "    <tr>\n",
       "      <th>2</th>\n",
       "      <td>2</td>\n",
       "      <td>0</td>\n",
       "      <td>Tỉnh Đồng Nai</td>\n",
       "      <td>Huyện Long Thành</td>\n",
       "      <td>30.0</td>\n",
       "      <td>30.0</td>\n",
       "      <td>Công nhân</td>\n",
       "      <td>0</td>\n",
       "      <td>1.0</td>\n",
       "      <td>3273.0</td>\n",
       "      <td>...</td>\n",
       "      <td>True</td>\n",
       "      <td>True</td>\n",
       "      <td>29.77</td>\n",
       "      <td>56.512</td>\n",
       "      <td>30.955</td>\n",
       "      <td>31.171</td>\n",
       "      <td>0.0</td>\n",
       "      <td>0.16</td>\n",
       "      <td>0.0</td>\n",
       "      <td>0.0</td>\n",
       "    </tr>\n",
       "    <tr>\n",
       "      <th>3</th>\n",
       "      <td>3</td>\n",
       "      <td>0</td>\n",
       "      <td>Tỉnh Tuyên Quang</td>\n",
       "      <td>Thành phố Tuyên Quang</td>\n",
       "      <td>43.0</td>\n",
       "      <td>NaN</td>\n",
       "      <td>NaN</td>\n",
       "      <td>0</td>\n",
       "      <td>1.0</td>\n",
       "      <td>3991.0</td>\n",
       "      <td>...</td>\n",
       "      <td>True</td>\n",
       "      <td>False</td>\n",
       "      <td>NaN</td>\n",
       "      <td>NaN</td>\n",
       "      <td>NaN</td>\n",
       "      <td>NaN</td>\n",
       "      <td>NaN</td>\n",
       "      <td>NaN</td>\n",
       "      <td>NaN</td>\n",
       "      <td>NaN</td>\n",
       "    </tr>\n",
       "    <tr>\n",
       "      <th>4</th>\n",
       "      <td>4</td>\n",
       "      <td>0</td>\n",
       "      <td>Thành phố Hồ Chí Minh</td>\n",
       "      <td>Quận 1</td>\n",
       "      <td>21.0</td>\n",
       "      <td>21.0</td>\n",
       "      <td>None</td>\n",
       "      <td>0</td>\n",
       "      <td>1.0</td>\n",
       "      <td>1450.0</td>\n",
       "      <td>...</td>\n",
       "      <td>True</td>\n",
       "      <td>True</td>\n",
       "      <td>29.77</td>\n",
       "      <td>13.789</td>\n",
       "      <td>30.955</td>\n",
       "      <td>31.171</td>\n",
       "      <td>0.0</td>\n",
       "      <td>0.03</td>\n",
       "      <td>0.0</td>\n",
       "      <td>0.0</td>\n",
       "    </tr>\n",
       "  </tbody>\n",
       "</table>\n",
       "<p>5 rows × 64 columns</p>\n",
       "</div>"
      ],
      "text/plain": [
       "   id  label               province               district  age_source1  \\\n",
       "0   0      0                    NaN                    NaN          NaN   \n",
       "1   1      0          Tỉnh Đồng Nai     Thành phố Biên Hòa         44.0   \n",
       "2   2      0          Tỉnh Đồng Nai       Huyện Long Thành         30.0   \n",
       "3   3      0       Tỉnh Tuyên Quang  Thành phố Tuyên Quang         43.0   \n",
       "4   4      0  Thành phố Hồ Chí Minh                 Quận 1         21.0   \n",
       "\n",
       "   age_source2       maCv  FIELD_1  FIELD_2  FIELD_3  ...  FIELD_48  FIELD_49  \\\n",
       "0          NaN        NaN        1      1.0   2547.0  ...      True      True   \n",
       "1         44.0       None        1      0.0     -1.0  ...     False      True   \n",
       "2         30.0  Công nhân        0      1.0   3273.0  ...      True      True   \n",
       "3          NaN        NaN        0      1.0   3991.0  ...      True     False   \n",
       "4         21.0       None        0      1.0   1450.0  ...      True      True   \n",
       "\n",
       "   FIELD_50 FIELD_51 FIELD_52 FIELD_53 FIELD_54 FIELD_55 FIELD_56 FIELD_57  \n",
       "0       NaN      NaN      NaN      NaN      NaN      NaN      NaN      NaN  \n",
       "1     29.77   17.561   30.955   31.171      0.0     0.04      0.0      0.0  \n",
       "2     29.77   56.512   30.955   31.171      0.0     0.16      0.0      0.0  \n",
       "3       NaN      NaN      NaN      NaN      NaN      NaN      NaN      NaN  \n",
       "4     29.77   13.789   30.955   31.171      0.0     0.03      0.0      0.0  \n",
       "\n",
       "[5 rows x 64 columns]"
      ]
     },
     "execution_count": 5,
     "metadata": {},
     "output_type": "execute_result"
    }
   ],
   "source": [
    "train_df.head()"
   ]
  },
  {
   "cell_type": "code",
   "execution_count": 6,
   "metadata": {},
   "outputs": [],
   "source": [
    "del train_df['id']"
   ]
  },
  {
   "cell_type": "code",
   "execution_count": 7,
   "metadata": {},
   "outputs": [],
   "source": [
    "dep_var = 'label'\n",
    "#cat_names = data.select_dtypes(exclude=['int', 'float']).columns\n",
    "cat_names = list(train_df.select_dtypes(exclude=['int', 'float']).columns)\n",
    "#cont_names = data.select_dtypes([np.number]).columns\n",
    "cont_names = list(train_df.select_dtypes([np.number]).columns[1:])"
   ]
  },
  {
   "cell_type": "code",
   "execution_count": 8,
   "metadata": {},
   "outputs": [],
   "source": [
    "# Transformations\n",
    "procs = [FillMissing, Categorify, Normalize]"
   ]
  },
  {
   "cell_type": "code",
   "execution_count": 9,
   "metadata": {},
   "outputs": [],
   "source": [
    "train_df = train_df[cat_names + cont_names + [dep_var]]"
   ]
  },
  {
   "cell_type": "code",
   "execution_count": 10,
   "metadata": {
    "scrolled": true
   },
   "outputs": [
    {
     "data": {
      "text/plain": [
       "24000"
      ]
     },
     "execution_count": 10,
     "metadata": {},
     "output_type": "execute_result"
    }
   ],
   "source": [
    "int(len(train_df) * 0.8)"
   ]
  },
  {
   "cell_type": "code",
   "execution_count": 25,
   "metadata": {},
   "outputs": [
    {
     "data": {
      "text/html": [
       "<table border=\"1\" class=\"dataframe\">\n",
       "  <thead>\n",
       "    <tr style=\"text-align: right;\">\n",
       "      <th>province</th>\n",
       "      <th>district</th>\n",
       "      <th>maCv</th>\n",
       "      <th>FIELD_7</th>\n",
       "      <th>FIELD_8</th>\n",
       "      <th>FIELD_9</th>\n",
       "      <th>FIELD_10</th>\n",
       "      <th>FIELD_11</th>\n",
       "      <th>FIELD_12</th>\n",
       "      <th>FIELD_13</th>\n",
       "      <th>FIELD_17</th>\n",
       "      <th>FIELD_18</th>\n",
       "      <th>FIELD_19</th>\n",
       "      <th>FIELD_20</th>\n",
       "      <th>FIELD_23</th>\n",
       "      <th>FIELD_24</th>\n",
       "      <th>FIELD_25</th>\n",
       "      <th>FIELD_26</th>\n",
       "      <th>FIELD_27</th>\n",
       "      <th>FIELD_28</th>\n",
       "      <th>FIELD_29</th>\n",
       "      <th>FIELD_30</th>\n",
       "      <th>FIELD_31</th>\n",
       "      <th>FIELD_35</th>\n",
       "      <th>FIELD_36</th>\n",
       "      <th>FIELD_37</th>\n",
       "      <th>FIELD_38</th>\n",
       "      <th>FIELD_39</th>\n",
       "      <th>FIELD_40</th>\n",
       "      <th>FIELD_41</th>\n",
       "      <th>FIELD_42</th>\n",
       "      <th>FIELD_43</th>\n",
       "      <th>FIELD_44</th>\n",
       "      <th>FIELD_45</th>\n",
       "      <th>FIELD_47</th>\n",
       "      <th>FIELD_48</th>\n",
       "      <th>FIELD_49</th>\n",
       "      <th>age_source1_na</th>\n",
       "      <th>age_source2_na</th>\n",
       "      <th>FIELD_2_na</th>\n",
       "      <th>FIELD_3_na</th>\n",
       "      <th>FIELD_4_na</th>\n",
       "      <th>FIELD_5_na</th>\n",
       "      <th>FIELD_6_na</th>\n",
       "      <th>FIELD_16_na</th>\n",
       "      <th>FIELD_21_na</th>\n",
       "      <th>FIELD_22_na</th>\n",
       "      <th>FIELD_50_na</th>\n",
       "      <th>FIELD_51_na</th>\n",
       "      <th>FIELD_52_na</th>\n",
       "      <th>FIELD_53_na</th>\n",
       "      <th>FIELD_54_na</th>\n",
       "      <th>FIELD_55_na</th>\n",
       "      <th>FIELD_56_na</th>\n",
       "      <th>FIELD_57_na</th>\n",
       "      <th>age_source1</th>\n",
       "      <th>age_source2</th>\n",
       "      <th>FIELD_1</th>\n",
       "      <th>FIELD_2</th>\n",
       "      <th>FIELD_3</th>\n",
       "      <th>FIELD_4</th>\n",
       "      <th>FIELD_5</th>\n",
       "      <th>FIELD_6</th>\n",
       "      <th>FIELD_14</th>\n",
       "      <th>FIELD_15</th>\n",
       "      <th>FIELD_16</th>\n",
       "      <th>FIELD_21</th>\n",
       "      <th>FIELD_22</th>\n",
       "      <th>FIELD_32</th>\n",
       "      <th>FIELD_33</th>\n",
       "      <th>FIELD_34</th>\n",
       "      <th>FIELD_46</th>\n",
       "      <th>FIELD_50</th>\n",
       "      <th>FIELD_51</th>\n",
       "      <th>FIELD_52</th>\n",
       "      <th>FIELD_53</th>\n",
       "      <th>FIELD_54</th>\n",
       "      <th>FIELD_55</th>\n",
       "      <th>FIELD_56</th>\n",
       "      <th>FIELD_57</th>\n",
       "      <th>target</th>\n",
       "    </tr>\n",
       "  </thead>\n",
       "  <tbody>\n",
       "    <tr>\n",
       "      <td>#na#</td>\n",
       "      <td>#na#</td>\n",
       "      <td>None</td>\n",
       "      <td>[]</td>\n",
       "      <td>MALE</td>\n",
       "      <td>GD</td>\n",
       "      <td>T1</td>\n",
       "      <td>12</td>\n",
       "      <td>0</td>\n",
       "      <td>BI</td>\n",
       "      <td>None</td>\n",
       "      <td>True</td>\n",
       "      <td>False</td>\n",
       "      <td>False</td>\n",
       "      <td>True</td>\n",
       "      <td>None</td>\n",
       "      <td>True</td>\n",
       "      <td>False</td>\n",
       "      <td>True</td>\n",
       "      <td>True</td>\n",
       "      <td>FALSE</td>\n",
       "      <td>TRUE</td>\n",
       "      <td>FALSE</td>\n",
       "      <td>Zero</td>\n",
       "      <td>FALSE</td>\n",
       "      <td>TRUE</td>\n",
       "      <td>False</td>\n",
       "      <td>None</td>\n",
       "      <td>1</td>\n",
       "      <td>V</td>\n",
       "      <td>Zezo</td>\n",
       "      <td>None</td>\n",
       "      <td>One</td>\n",
       "      <td>1</td>\n",
       "      <td>False</td>\n",
       "      <td>False</td>\n",
       "      <td>True</td>\n",
       "      <td>True</td>\n",
       "      <td>False</td>\n",
       "      <td>False</td>\n",
       "      <td>False</td>\n",
       "      <td>False</td>\n",
       "      <td>False</td>\n",
       "      <td>False</td>\n",
       "      <td>False</td>\n",
       "      <td>False</td>\n",
       "      <td>False</td>\n",
       "      <td>False</td>\n",
       "      <td>False</td>\n",
       "      <td>False</td>\n",
       "      <td>False</td>\n",
       "      <td>False</td>\n",
       "      <td>False</td>\n",
       "      <td>False</td>\n",
       "      <td>False</td>\n",
       "      <td>-0.1650</td>\n",
       "      <td>-0.5657</td>\n",
       "      <td>0.5377</td>\n",
       "      <td>-1.8137</td>\n",
       "      <td>-1.1822</td>\n",
       "      <td>-0.5854</td>\n",
       "      <td>-0.8886</td>\n",
       "      <td>-0.3145</td>\n",
       "      <td>-0.8149</td>\n",
       "      <td>-0.8101</td>\n",
       "      <td>-0.2477</td>\n",
       "      <td>-0.0061</td>\n",
       "      <td>-0.7455</td>\n",
       "      <td>-0.7163</td>\n",
       "      <td>-1.4673</td>\n",
       "      <td>-0.9138</td>\n",
       "      <td>1.2199</td>\n",
       "      <td>-0.3003</td>\n",
       "      <td>-1.1290</td>\n",
       "      <td>-0.2454</td>\n",
       "      <td>-0.2354</td>\n",
       "      <td>-0.2564</td>\n",
       "      <td>-0.9207</td>\n",
       "      <td>-0.2145</td>\n",
       "      <td>-0.2078</td>\n",
       "      <td>0</td>\n",
       "    </tr>\n",
       "    <tr>\n",
       "      <td>#na#</td>\n",
       "      <td>#na#</td>\n",
       "      <td>None</td>\n",
       "      <td>[]</td>\n",
       "      <td>MALE</td>\n",
       "      <td>TN</td>\n",
       "      <td>T1</td>\n",
       "      <td>5</td>\n",
       "      <td>None</td>\n",
       "      <td>BO</td>\n",
       "      <td>G8</td>\n",
       "      <td>True</td>\n",
       "      <td>True</td>\n",
       "      <td>True</td>\n",
       "      <td>True</td>\n",
       "      <td>None</td>\n",
       "      <td>True</td>\n",
       "      <td>False</td>\n",
       "      <td>True</td>\n",
       "      <td>True</td>\n",
       "      <td>None</td>\n",
       "      <td>None</td>\n",
       "      <td>None</td>\n",
       "      <td>Two</td>\n",
       "      <td>FALSE</td>\n",
       "      <td>True</td>\n",
       "      <td>False</td>\n",
       "      <td>VN</td>\n",
       "      <td>None</td>\n",
       "      <td>II</td>\n",
       "      <td>Zezo</td>\n",
       "      <td>None</td>\n",
       "      <td>One</td>\n",
       "      <td>1</td>\n",
       "      <td>False</td>\n",
       "      <td>False</td>\n",
       "      <td>True</td>\n",
       "      <td>True</td>\n",
       "      <td>False</td>\n",
       "      <td>False</td>\n",
       "      <td>False</td>\n",
       "      <td>False</td>\n",
       "      <td>False</td>\n",
       "      <td>False</td>\n",
       "      <td>False</td>\n",
       "      <td>False</td>\n",
       "      <td>False</td>\n",
       "      <td>False</td>\n",
       "      <td>False</td>\n",
       "      <td>False</td>\n",
       "      <td>False</td>\n",
       "      <td>False</td>\n",
       "      <td>False</td>\n",
       "      <td>False</td>\n",
       "      <td>False</td>\n",
       "      <td>-0.1650</td>\n",
       "      <td>-1.0954</td>\n",
       "      <td>0.5377</td>\n",
       "      <td>0.5513</td>\n",
       "      <td>0.8048</td>\n",
       "      <td>-0.5854</td>\n",
       "      <td>-0.8886</td>\n",
       "      <td>-0.3145</td>\n",
       "      <td>-0.8149</td>\n",
       "      <td>-0.8101</td>\n",
       "      <td>-0.2477</td>\n",
       "      <td>-0.0061</td>\n",
       "      <td>-0.7455</td>\n",
       "      <td>-0.7163</td>\n",
       "      <td>-1.4673</td>\n",
       "      <td>1.0942</td>\n",
       "      <td>-0.8197</td>\n",
       "      <td>-0.3003</td>\n",
       "      <td>-0.1618</td>\n",
       "      <td>-0.2454</td>\n",
       "      <td>-0.2354</td>\n",
       "      <td>-0.2564</td>\n",
       "      <td>-0.2180</td>\n",
       "      <td>-0.2145</td>\n",
       "      <td>-0.2078</td>\n",
       "      <td>0</td>\n",
       "    </tr>\n",
       "    <tr>\n",
       "      <td>#na#</td>\n",
       "      <td>#na#</td>\n",
       "      <td>#na#</td>\n",
       "      <td>[]</td>\n",
       "      <td>#na#</td>\n",
       "      <td>na</td>\n",
       "      <td>#na#</td>\n",
       "      <td>#na#</td>\n",
       "      <td>#na#</td>\n",
       "      <td>#na#</td>\n",
       "      <td>#na#</td>\n",
       "      <td>#na#</td>\n",
       "      <td>#na#</td>\n",
       "      <td>#na#</td>\n",
       "      <td>#na#</td>\n",
       "      <td>#na#</td>\n",
       "      <td>#na#</td>\n",
       "      <td>#na#</td>\n",
       "      <td>#na#</td>\n",
       "      <td>#na#</td>\n",
       "      <td>#na#</td>\n",
       "      <td>#na#</td>\n",
       "      <td>#na#</td>\n",
       "      <td>#na#</td>\n",
       "      <td>#na#</td>\n",
       "      <td>#na#</td>\n",
       "      <td>#na#</td>\n",
       "      <td>#na#</td>\n",
       "      <td>#na#</td>\n",
       "      <td>#na#</td>\n",
       "      <td>#na#</td>\n",
       "      <td>#na#</td>\n",
       "      <td>#na#</td>\n",
       "      <td>#na#</td>\n",
       "      <td>False</td>\n",
       "      <td>False</td>\n",
       "      <td>True</td>\n",
       "      <td>True</td>\n",
       "      <td>True</td>\n",
       "      <td>False</td>\n",
       "      <td>False</td>\n",
       "      <td>False</td>\n",
       "      <td>False</td>\n",
       "      <td>False</td>\n",
       "      <td>True</td>\n",
       "      <td>True</td>\n",
       "      <td>True</td>\n",
       "      <td>True</td>\n",
       "      <td>True</td>\n",
       "      <td>True</td>\n",
       "      <td>True</td>\n",
       "      <td>True</td>\n",
       "      <td>True</td>\n",
       "      <td>True</td>\n",
       "      <td>True</td>\n",
       "      <td>-0.1650</td>\n",
       "      <td>-0.1685</td>\n",
       "      <td>-1.8597</td>\n",
       "      <td>-1.8137</td>\n",
       "      <td>-1.1822</td>\n",
       "      <td>-0.5854</td>\n",
       "      <td>-0.8886</td>\n",
       "      <td>-0.3145</td>\n",
       "      <td>1.2271</td>\n",
       "      <td>1.2343</td>\n",
       "      <td>-0.2477</td>\n",
       "      <td>-0.0061</td>\n",
       "      <td>-0.2612</td>\n",
       "      <td>1.3960</td>\n",
       "      <td>0.6815</td>\n",
       "      <td>1.0942</td>\n",
       "      <td>-0.8197</td>\n",
       "      <td>-0.3003</td>\n",
       "      <td>-0.0022</td>\n",
       "      <td>-0.2454</td>\n",
       "      <td>-0.2354</td>\n",
       "      <td>-0.2564</td>\n",
       "      <td>0.0631</td>\n",
       "      <td>-0.2145</td>\n",
       "      <td>-0.2078</td>\n",
       "      <td>0</td>\n",
       "    </tr>\n",
       "  </tbody>\n",
       "</table>"
      ],
      "text/plain": [
       "<IPython.core.display.HTML object>"
      ]
     },
     "metadata": {},
     "output_type": "display_data"
    }
   ],
   "source": [
    "# Test Tabular List\n",
    "test = TabularList.from_df(test_df, cat_names=cat_names, cont_names=cont_names, procs=procs)\n",
    "test_id = test_df['id']\n",
    "# Train Data Bunch\n",
    "data = (TabularList.from_df(train_df, path='.', cat_names=cat_names, cont_names=cont_names, procs=procs)\n",
    "                        .split_by_idx(list(range(24000,30000)))\n",
    "                        .label_from_df(cols = dep_var)\n",
    "                        .add_test(test, label=0)\n",
    "                        .databunch())\n",
    "\n",
    "data.show_batch(rows=3)"
   ]
  },
  {
   "cell_type": "code",
   "execution_count": 12,
   "metadata": {},
   "outputs": [],
   "source": [
    "# Create deep learning model\n",
    "learn = tabular_learner(data, layers=[1000, 200, 15], metrics=accuracy, emb_drop=0.1, callback_fns=ShowGraph)"
   ]
  },
  {
   "cell_type": "code",
   "execution_count": 13,
   "metadata": {},
   "outputs": [
    {
     "data": {
      "text/html": [],
      "text/plain": [
       "<IPython.core.display.HTML object>"
      ]
     },
     "metadata": {},
     "output_type": "display_data"
    },
    {
     "name": "stdout",
     "output_type": "stream",
     "text": [
      "LR Finder is complete, type {learner_name}.recorder.plot() to see the graph.\n"
     ]
    }
   ],
   "source": [
    "# select the appropriate learning rate\n",
    "learn.lr_find()"
   ]
  },
  {
   "cell_type": "code",
   "execution_count": 14,
   "metadata": {},
   "outputs": [
    {
     "data": {
      "image/png": "[encoded data removed]",
      "text/plain": [
       "<Figure size 432x288 with 1 Axes>"
      ]
     },
     "metadata": {
      "needs_background": "light"
     },
     "output_type": "display_data"
    }
   ],
   "source": [
    "# we typically find the point where the slope is steepest\n",
    "learn.recorder.plot()"
   ]
  },
  {
   "cell_type": "code",
   "execution_count": 15,
   "metadata": {},
   "outputs": [
    {
     "data": {
      "text/html": [
       "<table border=\"1\" class=\"dataframe\">\n",
       "  <thead>\n",
       "    <tr style=\"text-align: left;\">\n",
       "      <th>epoch</th>\n",
       "      <th>train_loss</th>\n",
       "      <th>valid_loss</th>\n",
       "      <th>accuracy</th>\n",
       "      <th>time</th>\n",
       "    </tr>\n",
       "  </thead>\n",
       "  <tbody>\n",
       "    <tr>\n",
       "      <td>0</td>\n",
       "      <td>0.085861</td>\n",
       "      <td>0.087874</td>\n",
       "      <td>0.982833</td>\n",
       "      <td>00:12</td>\n",
       "    </tr>\n",
       "    <tr>\n",
       "      <td>1</td>\n",
       "      <td>0.085035</td>\n",
       "      <td>0.086602</td>\n",
       "      <td>0.982833</td>\n",
       "      <td>00:12</td>\n",
       "    </tr>\n",
       "    <tr>\n",
       "      <td>2</td>\n",
       "      <td>0.075347</td>\n",
       "      <td>0.091469</td>\n",
       "      <td>0.982500</td>\n",
       "      <td>00:12</td>\n",
       "    </tr>\n",
       "  </tbody>\n",
       "</table>"
      ],
      "text/plain": [
       "<IPython.core.display.HTML object>"
      ]
     },
     "metadata": {},
     "output_type": "display_data"
    },
    {
     "data": {
      "image/png": "[encoded data removed]",
      "text/plain": [
       "<Figure size 432x288 with 1 Axes>"
      ]
     },
     "metadata": {},
     "output_type": "display_data"
    }
   ],
   "source": [
    "# Fit the model based on selected learning rate\n",
    "learn.fit_one_cycle(3, max_lr=slice(1e-02))"
   ]
  },
  {
   "cell_type": "code",
   "execution_count": 16,
   "metadata": {},
   "outputs": [
    {
     "data": {
      "image/png": "[encoded data removed]",
      "text/plain": [
       "<Figure size 432x288 with 1 Axes>"
      ]
     },
     "metadata": {
      "needs_background": "light"
     },
     "output_type": "display_data"
    }
   ],
   "source": [
    "# Analyse our model\n",
    "learn.model\n",
    "learn.recorder.plot_losses()"
   ]
  },
  {
   "cell_type": "code",
   "execution_count": 17,
   "metadata": {},
   "outputs": [
    {
     "data": {
      "text/html": [],
      "text/plain": [
       "<IPython.core.display.HTML object>"
      ]
     },
     "metadata": {},
     "output_type": "display_data"
    }
   ],
   "source": [
    "# Predict our target value\n",
    "predictions, *_ = learn.get_preds(DatasetType.Valid)\n",
    "y_score = predictions[:,1].tolist()\n",
    "labels = np.argmax(predictions, 1)\n",
    "y_valid = list(train_df[24000:30000].label)\n",
    "gini_score(y_valid, y_score)"
   ]
  },
  {
   "cell_type": "code",
   "execution_count": 21,
   "metadata": {},
   "outputs": [
    {
     "ename": "NameError",
     "evalue": "name 'test_id' is not defined",
     "output_type": "error",
     "traceback": [
      "\u001b[0;31m---------------------------------------------------------------------------\u001b[0m",
      "\u001b[0;31mNameError\u001b[0m                                 Traceback (most recent call last)",
      "\u001b[0;32m<ipython-input-21-501dc9cf305a>\u001b[0m in \u001b[0;36m<module>\u001b[0;34m\u001b[0m\n\u001b[0;32m----> 1\u001b[0;31m \u001b[0mtest_id\u001b[0m\u001b[0;34m\u001b[0m\u001b[0;34m\u001b[0m\u001b[0m\n\u001b[0m",
      "\u001b[0;31mNameError\u001b[0m: name 'test_id' is not defined"
     ]
    }
   ],
   "source": [
    "test_id"
   ]
  },
  {
   "cell_type": "code",
   "execution_count": null,
   "metadata": {},
   "outputs": [],
   "source": [
    "# Predict our target value\n",
    "predictions, *_ = learn.get_preds(DatasetType.Test)\n",
    "# labels = np.argmax(predictions, 1)\n",
    "labels = predictions[:,1].tolist()\n",
    "# create submission file to submit in Kaggle competition\n",
    "submission = pd.DataFrame({'id': test_id, 'label': labels})\n",
    "submission.to_csv('submission.csv', index=False)\n",
    "submission.head()"
   ]
  }
 ],
 "metadata": {
  "kernelspec": {
   "display_name": "Python 3",
   "language": "python",
   "name": "python3"
  },
  "language_info": {
   "codemirror_mode": {
    "name": "ipython",
    "version": 3
   },
   "file_extension": ".py",
   "mimetype": "text/x-python",
   "name": "python",
   "nbconvert_exporter": "python",
   "pygments_lexer": "ipython3",
   "version": "3.6.8"
  }
 },
 "nbformat": 4,
 "nbformat_minor": 2
}
