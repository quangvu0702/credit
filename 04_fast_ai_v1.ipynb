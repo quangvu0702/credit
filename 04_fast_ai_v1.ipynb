{
 "cells": [
  {
   "cell_type": "code",
   "execution_count": 1,
   "metadata": {},
   "outputs": [],
   "source": [
    "%load_ext autoreload\n",
    "%autoreload 2"
   ]
  },
  {
   "cell_type": "code",
   "execution_count": 2,
   "metadata": {},
   "outputs": [],
   "source": [
    "from fastai import *\n",
    "import numpy as np"
   ]
  },
  {
   "cell_type": "code",
   "execution_count": 3,
   "metadata": {},
   "outputs": [],
   "source": [
    "from exp.nb_01 import load_data\n",
    "from exp.nb_02 import gini_score"
   ]
  },
  {
   "cell_type": "code",
   "execution_count": 4,
   "metadata": {},
   "outputs": [
    {
     "name": "stderr",
     "output_type": "stream",
     "text": [
      "/home/ubuntu/anaconda3/envs/thanos/lib/python3.6/site-packages/IPython/core/interactiveshell.py:3214: DtypeWarning: Columns (51) have mixed types. Specify dtype option on import or set low_memory=False.\n",
      "  if (yield from self.run_code(code, result)):\n",
      "/home/ubuntu/anaconda3/envs/thanos/lib/python3.6/site-packages/IPython/core/interactiveshell.py:3214: DtypeWarning: Columns (50) have mixed types. Specify dtype option on import or set low_memory=False.\n",
      "  if (yield from self.run_code(code, result)):\n"
     ]
    }
   ],
   "source": [
    "train_df, test_df = load_data(keep_df=True)"
   ]
  },
  {
   "cell_type": "code",
   "execution_count": 5,
   "metadata": {
    "scrolled": false
   },
   "outputs": [],
   "source": [
    "# train_df.head()"
   ]
  },
  {
   "cell_type": "code",
   "execution_count": 6,
   "metadata": {},
   "outputs": [],
   "source": [
    "#export\n",
    "from fastai.tabular import FillMissing, Categorify, Normalize\n",
    "\n",
    "def feature_selector(train_df, test_df, n_valid=6000):\n",
    "    params = {}\n",
    "    procs = [FillMissing, Categorify, Normalize]\n",
    "#     procs = [Categorify, Normalize]\n",
    "    dep_var = 'label'\n",
    "    \n",
    "    #cat_names = data.select_dtypes(exclude=['int', 'float']).columns\n",
    "    cat_names = list(train_df.select_dtypes(exclude=['int', 'float']).columns)\n",
    "    \n",
    "    #cont_names = data.select_dtypes([np.number]).columns\n",
    "    cont_names = list(train_df.select_dtypes([np.number]).columns)\n",
    "    cont_names.remove('label')\n",
    "    cont_names.remove('id')\n",
    "    print(f\"Category {cat_names},\\n\\nContinue: {cont_names}\")\n",
    "    \n",
    "    train_df = train_df[cat_names + cont_names + [dep_var]]\n",
    "\n",
    "    test_ids = test_df['id']\n",
    "    del test_df['id']\n",
    "    n = len(train_df)\n",
    "    valid_ratio=0.8\n",
    "    valid_ids = list(range(n - n_valid,n))\n",
    "\n",
    "    embed_params = {'layers': [1000, 500],\n",
    "          'ps': [0.002,0.02],\n",
    "          'emb_drop': 0.1,\n",
    "          'emb_szs':{},\n",
    "         }\n",
    "\n",
    "    params = {'train_df': train_df, \n",
    "              'test_df': test_df, \n",
    "              'cat_names': cat_names, \n",
    "              'cont_names': cont_names, \n",
    "              'procs': procs, \n",
    "              'dep_var': dep_var, \n",
    "              'valid_ids': valid_ids}\n",
    "    return test_ids, valid_ids, embed_params, params"
   ]
  },
  {
   "cell_type": "code",
   "execution_count": 7,
   "metadata": {},
   "outputs": [
    {
     "name": "stdout",
     "output_type": "stream",
     "text": [
      "Category ['province', 'district', 'maCv', 'FIELD_7', 'FIELD_8', 'FIELD_9', 'FIELD_10', 'FIELD_11', 'FIELD_12', 'FIELD_13', 'FIELD_17', 'FIELD_18', 'FIELD_19', 'FIELD_20', 'FIELD_23', 'FIELD_24', 'FIELD_25', 'FIELD_26', 'FIELD_27', 'FIELD_28', 'FIELD_29', 'FIELD_30', 'FIELD_31', 'FIELD_35', 'FIELD_36', 'FIELD_37', 'FIELD_38', 'FIELD_39', 'FIELD_40', 'FIELD_41', 'FIELD_42', 'FIELD_43', 'FIELD_44', 'FIELD_45', 'FIELD_47', 'FIELD_48', 'FIELD_49'],\n",
      "\n",
      "Continue: ['age_source1', 'age_source2', 'FIELD_1', 'FIELD_2', 'FIELD_3', 'FIELD_4', 'FIELD_5', 'FIELD_6', 'FIELD_14', 'FIELD_15', 'FIELD_16', 'FIELD_21', 'FIELD_22', 'FIELD_32', 'FIELD_33', 'FIELD_34', 'FIELD_46', 'FIELD_50', 'FIELD_51', 'FIELD_52', 'FIELD_53', 'FIELD_54', 'FIELD_55', 'FIELD_56', 'FIELD_57']\n"
     ]
    }
   ],
   "source": [
    "test_ids, valid_ids, embed_params, params = feature_selector(train_df, test_df)"
   ]
  },
  {
   "cell_type": "code",
   "execution_count": 8,
   "metadata": {},
   "outputs": [],
   "source": [
    "#export\n",
    "from fastai.tabular import TabularList, FloatList\n",
    "def load_data_bunch(train_df, test_df, cat_names, cont_names, procs, dep_var, valid_ids, with_valid=True):\n",
    "    test = TabularList.from_df(test_df, cat_names=cat_names, cont_names=cont_names, procs=procs)\n",
    "    if with_valid:\n",
    "        data = (TabularList.from_df(train_df, path='.', cat_names=cat_names, cont_names=cont_names, procs=procs)\n",
    "                            .split_by_idx(valid_ids)\n",
    "                            .label_from_df(cols = dep_var)\n",
    "                            .add_test(test, label=0)\n",
    "                            .databunch())\n",
    "    else:\n",
    "        data = (TabularList.from_df(train_df, path='.', cat_names=cat_names, cont_names=cont_names, procs=procs)\n",
    "                    .split_none()\n",
    "                    .label_from_df(cols = dep_var)\n",
    "                    .add_test(test, label=0)\n",
    "                    .databunch())\n",
    "    return data"
   ]
  },
  {
   "cell_type": "code",
   "execution_count": 9,
   "metadata": {},
   "outputs": [
    {
     "data": {
      "text/html": [
       "<table border=\"1\" class=\"dataframe\">\n",
       "  <thead>\n",
       "    <tr style=\"text-align: right;\">\n",
       "      <th>province</th>\n",
       "      <th>district</th>\n",
       "      <th>maCv</th>\n",
       "      <th>FIELD_7</th>\n",
       "      <th>FIELD_8</th>\n",
       "      <th>FIELD_9</th>\n",
       "      <th>FIELD_10</th>\n",
       "      <th>FIELD_11</th>\n",
       "      <th>FIELD_12</th>\n",
       "      <th>FIELD_13</th>\n",
       "      <th>FIELD_17</th>\n",
       "      <th>FIELD_18</th>\n",
       "      <th>FIELD_19</th>\n",
       "      <th>FIELD_20</th>\n",
       "      <th>FIELD_23</th>\n",
       "      <th>FIELD_24</th>\n",
       "      <th>FIELD_25</th>\n",
       "      <th>FIELD_26</th>\n",
       "      <th>FIELD_27</th>\n",
       "      <th>FIELD_28</th>\n",
       "      <th>FIELD_29</th>\n",
       "      <th>FIELD_30</th>\n",
       "      <th>FIELD_31</th>\n",
       "      <th>FIELD_35</th>\n",
       "      <th>FIELD_36</th>\n",
       "      <th>FIELD_37</th>\n",
       "      <th>FIELD_38</th>\n",
       "      <th>FIELD_39</th>\n",
       "      <th>FIELD_40</th>\n",
       "      <th>FIELD_41</th>\n",
       "      <th>FIELD_42</th>\n",
       "      <th>FIELD_43</th>\n",
       "      <th>FIELD_44</th>\n",
       "      <th>FIELD_45</th>\n",
       "      <th>FIELD_47</th>\n",
       "      <th>FIELD_48</th>\n",
       "      <th>FIELD_49</th>\n",
       "      <th>age_source1_na</th>\n",
       "      <th>age_source2_na</th>\n",
       "      <th>FIELD_2_na</th>\n",
       "      <th>FIELD_3_na</th>\n",
       "      <th>FIELD_4_na</th>\n",
       "      <th>FIELD_5_na</th>\n",
       "      <th>FIELD_6_na</th>\n",
       "      <th>FIELD_16_na</th>\n",
       "      <th>FIELD_21_na</th>\n",
       "      <th>FIELD_22_na</th>\n",
       "      <th>FIELD_50_na</th>\n",
       "      <th>FIELD_51_na</th>\n",
       "      <th>FIELD_52_na</th>\n",
       "      <th>FIELD_53_na</th>\n",
       "      <th>FIELD_54_na</th>\n",
       "      <th>FIELD_55_na</th>\n",
       "      <th>FIELD_56_na</th>\n",
       "      <th>FIELD_57_na</th>\n",
       "      <th>age_source1</th>\n",
       "      <th>age_source2</th>\n",
       "      <th>FIELD_1</th>\n",
       "      <th>FIELD_2</th>\n",
       "      <th>FIELD_3</th>\n",
       "      <th>FIELD_4</th>\n",
       "      <th>FIELD_5</th>\n",
       "      <th>FIELD_6</th>\n",
       "      <th>FIELD_14</th>\n",
       "      <th>FIELD_15</th>\n",
       "      <th>FIELD_16</th>\n",
       "      <th>FIELD_21</th>\n",
       "      <th>FIELD_22</th>\n",
       "      <th>FIELD_32</th>\n",
       "      <th>FIELD_33</th>\n",
       "      <th>FIELD_34</th>\n",
       "      <th>FIELD_46</th>\n",
       "      <th>FIELD_50</th>\n",
       "      <th>FIELD_51</th>\n",
       "      <th>FIELD_52</th>\n",
       "      <th>FIELD_53</th>\n",
       "      <th>FIELD_54</th>\n",
       "      <th>FIELD_55</th>\n",
       "      <th>FIELD_56</th>\n",
       "      <th>FIELD_57</th>\n",
       "      <th>target</th>\n",
       "    </tr>\n",
       "  </thead>\n",
       "  <tbody>\n",
       "    <tr>\n",
       "      <td>#na#</td>\n",
       "      <td>#na#</td>\n",
       "      <td>Công nhân may</td>\n",
       "      <td>[]</td>\n",
       "      <td>FEMALE</td>\n",
       "      <td>DN</td>\n",
       "      <td>GH</td>\n",
       "      <td>3</td>\n",
       "      <td>None</td>\n",
       "      <td>TH</td>\n",
       "      <td>None</td>\n",
       "      <td>True</td>\n",
       "      <td>True</td>\n",
       "      <td>False</td>\n",
       "      <td>True</td>\n",
       "      <td>None</td>\n",
       "      <td>False</td>\n",
       "      <td>False</td>\n",
       "      <td>True</td>\n",
       "      <td>True</td>\n",
       "      <td>None</td>\n",
       "      <td>None</td>\n",
       "      <td>None</td>\n",
       "      <td>Four</td>\n",
       "      <td>FALSE</td>\n",
       "      <td>TRUE</td>\n",
       "      <td>False</td>\n",
       "      <td>VN</td>\n",
       "      <td>None</td>\n",
       "      <td>I</td>\n",
       "      <td>Zezo</td>\n",
       "      <td>None</td>\n",
       "      <td>Two</td>\n",
       "      <td>2</td>\n",
       "      <td>False</td>\n",
       "      <td>True</td>\n",
       "      <td>False</td>\n",
       "      <td>True</td>\n",
       "      <td>False</td>\n",
       "      <td>False</td>\n",
       "      <td>False</td>\n",
       "      <td>False</td>\n",
       "      <td>False</td>\n",
       "      <td>False</td>\n",
       "      <td>False</td>\n",
       "      <td>False</td>\n",
       "      <td>False</td>\n",
       "      <td>False</td>\n",
       "      <td>False</td>\n",
       "      <td>False</td>\n",
       "      <td>False</td>\n",
       "      <td>False</td>\n",
       "      <td>False</td>\n",
       "      <td>False</td>\n",
       "      <td>False</td>\n",
       "      <td>-0.1650</td>\n",
       "      <td>-0.6981</td>\n",
       "      <td>0.5377</td>\n",
       "      <td>0.5513</td>\n",
       "      <td>0.8041</td>\n",
       "      <td>-0.5854</td>\n",
       "      <td>-0.8886</td>\n",
       "      <td>-0.3145</td>\n",
       "      <td>1.2271</td>\n",
       "      <td>1.2343</td>\n",
       "      <td>-0.2477</td>\n",
       "      <td>-0.0061</td>\n",
       "      <td>-0.7455</td>\n",
       "      <td>-0.7163</td>\n",
       "      <td>0.6815</td>\n",
       "      <td>-0.9138</td>\n",
       "      <td>-0.8197</td>\n",
       "      <td>-0.3003</td>\n",
       "      <td>-0.2735</td>\n",
       "      <td>4.1023</td>\n",
       "      <td>4.2453</td>\n",
       "      <td>-0.2564</td>\n",
       "      <td>-0.3585</td>\n",
       "      <td>3.5515</td>\n",
       "      <td>3.5624</td>\n",
       "      <td>0</td>\n",
       "    </tr>\n",
       "    <tr>\n",
       "      <td>#na#</td>\n",
       "      <td>#na#</td>\n",
       "      <td>#na#</td>\n",
       "      <td>[]</td>\n",
       "      <td>#na#</td>\n",
       "      <td>na</td>\n",
       "      <td>#na#</td>\n",
       "      <td>#na#</td>\n",
       "      <td>#na#</td>\n",
       "      <td>#na#</td>\n",
       "      <td>#na#</td>\n",
       "      <td>#na#</td>\n",
       "      <td>#na#</td>\n",
       "      <td>#na#</td>\n",
       "      <td>#na#</td>\n",
       "      <td>#na#</td>\n",
       "      <td>#na#</td>\n",
       "      <td>#na#</td>\n",
       "      <td>#na#</td>\n",
       "      <td>#na#</td>\n",
       "      <td>#na#</td>\n",
       "      <td>#na#</td>\n",
       "      <td>#na#</td>\n",
       "      <td>#na#</td>\n",
       "      <td>#na#</td>\n",
       "      <td>#na#</td>\n",
       "      <td>#na#</td>\n",
       "      <td>#na#</td>\n",
       "      <td>#na#</td>\n",
       "      <td>#na#</td>\n",
       "      <td>#na#</td>\n",
       "      <td>#na#</td>\n",
       "      <td>#na#</td>\n",
       "      <td>#na#</td>\n",
       "      <td>False</td>\n",
       "      <td>False</td>\n",
       "      <td>True</td>\n",
       "      <td>True</td>\n",
       "      <td>True</td>\n",
       "      <td>False</td>\n",
       "      <td>False</td>\n",
       "      <td>False</td>\n",
       "      <td>False</td>\n",
       "      <td>False</td>\n",
       "      <td>True</td>\n",
       "      <td>True</td>\n",
       "      <td>True</td>\n",
       "      <td>True</td>\n",
       "      <td>True</td>\n",
       "      <td>True</td>\n",
       "      <td>True</td>\n",
       "      <td>True</td>\n",
       "      <td>True</td>\n",
       "      <td>True</td>\n",
       "      <td>True</td>\n",
       "      <td>-0.1650</td>\n",
       "      <td>-0.1685</td>\n",
       "      <td>0.5377</td>\n",
       "      <td>-1.8137</td>\n",
       "      <td>-1.1822</td>\n",
       "      <td>-0.5854</td>\n",
       "      <td>-0.8886</td>\n",
       "      <td>-0.3145</td>\n",
       "      <td>1.2271</td>\n",
       "      <td>1.2343</td>\n",
       "      <td>-0.2477</td>\n",
       "      <td>-0.0061</td>\n",
       "      <td>-0.2612</td>\n",
       "      <td>1.3960</td>\n",
       "      <td>0.6815</td>\n",
       "      <td>1.0942</td>\n",
       "      <td>-0.8197</td>\n",
       "      <td>-0.3003</td>\n",
       "      <td>-0.0022</td>\n",
       "      <td>-0.2454</td>\n",
       "      <td>-0.2354</td>\n",
       "      <td>-0.2564</td>\n",
       "      <td>0.0631</td>\n",
       "      <td>-0.2145</td>\n",
       "      <td>-0.2078</td>\n",
       "      <td>0</td>\n",
       "    </tr>\n",
       "    <tr>\n",
       "      <td>#na#</td>\n",
       "      <td>#na#</td>\n",
       "      <td>Nhân viên hợp đồng</td>\n",
       "      <td>[]</td>\n",
       "      <td>MALE</td>\n",
       "      <td>XK</td>\n",
       "      <td>GH</td>\n",
       "      <td>12</td>\n",
       "      <td>None</td>\n",
       "      <td>KC</td>\n",
       "      <td>G8</td>\n",
       "      <td>True</td>\n",
       "      <td>True</td>\n",
       "      <td>True</td>\n",
       "      <td>True</td>\n",
       "      <td>None</td>\n",
       "      <td>False</td>\n",
       "      <td>False</td>\n",
       "      <td>True</td>\n",
       "      <td>True</td>\n",
       "      <td>None</td>\n",
       "      <td>None</td>\n",
       "      <td>None</td>\n",
       "      <td>One</td>\n",
       "      <td>FALSE</td>\n",
       "      <td>True</td>\n",
       "      <td>False</td>\n",
       "      <td>VN</td>\n",
       "      <td>None</td>\n",
       "      <td>I</td>\n",
       "      <td>Zezo</td>\n",
       "      <td>None</td>\n",
       "      <td>Two</td>\n",
       "      <td>1</td>\n",
       "      <td>True</td>\n",
       "      <td>True</td>\n",
       "      <td>True</td>\n",
       "      <td>True</td>\n",
       "      <td>False</td>\n",
       "      <td>False</td>\n",
       "      <td>False</td>\n",
       "      <td>False</td>\n",
       "      <td>False</td>\n",
       "      <td>False</td>\n",
       "      <td>False</td>\n",
       "      <td>False</td>\n",
       "      <td>False</td>\n",
       "      <td>False</td>\n",
       "      <td>False</td>\n",
       "      <td>False</td>\n",
       "      <td>False</td>\n",
       "      <td>False</td>\n",
       "      <td>False</td>\n",
       "      <td>False</td>\n",
       "      <td>False</td>\n",
       "      <td>-0.1650</td>\n",
       "      <td>1.4204</td>\n",
       "      <td>-1.8597</td>\n",
       "      <td>0.5513</td>\n",
       "      <td>1.5701</td>\n",
       "      <td>-0.5854</td>\n",
       "      <td>-0.8886</td>\n",
       "      <td>-0.3145</td>\n",
       "      <td>1.2271</td>\n",
       "      <td>1.2343</td>\n",
       "      <td>-0.2477</td>\n",
       "      <td>-0.0061</td>\n",
       "      <td>1.0022</td>\n",
       "      <td>-0.7163</td>\n",
       "      <td>0.6815</td>\n",
       "      <td>-0.9138</td>\n",
       "      <td>1.2199</td>\n",
       "      <td>3.0263</td>\n",
       "      <td>-1.8178</td>\n",
       "      <td>-0.2454</td>\n",
       "      <td>-0.2354</td>\n",
       "      <td>0.9524</td>\n",
       "      <td>-1.4828</td>\n",
       "      <td>-0.2145</td>\n",
       "      <td>-0.2078</td>\n",
       "      <td>0</td>\n",
       "    </tr>\n",
       "  </tbody>\n",
       "</table>"
      ],
      "text/plain": [
       "<IPython.core.display.HTML object>"
      ]
     },
     "metadata": {},
     "output_type": "display_data"
    }
   ],
   "source": [
    "# Train Data Bunch\n",
    "data = load_data_bunch(**params)\n",
    "\n",
    "data.show_batch(rows=3)"
   ]
  },
  {
   "cell_type": "code",
   "execution_count": 10,
   "metadata": {},
   "outputs": [],
   "source": [
    "#export\n",
    "from fastai.tabular import *\n",
    "def load_learner(data, params): return tabular_learner(data, **params, metrics=accuracy, callback_fns=ShowGraph)"
   ]
  },
  {
   "cell_type": "code",
   "execution_count": 11,
   "metadata": {},
   "outputs": [],
   "source": [
    "learn = load_learner(data, embed_params)"
   ]
  },
  {
   "cell_type": "code",
   "execution_count": 12,
   "metadata": {},
   "outputs": [
    {
     "data": {
      "text/plain": [
       "TabularModel(\n",
       "  (embeds): ModuleList(\n",
       "    (0): Embedding(66, 17)\n",
       "    (1): Embedding(710, 63)\n",
       "    (2): Embedding(2552, 129)\n",
       "    (3): Embedding(5922, 207)\n",
       "    (4): Embedding(3, 3)\n",
       "    (5): Embedding(36, 12)\n",
       "    (6): Embedding(3, 3)\n",
       "    (7): Embedding(42, 13)\n",
       "    (8): Embedding(6, 4)\n",
       "    (9): Embedding(215, 32)\n",
       "    (10): Embedding(9, 5)\n",
       "    (11): Embedding(3, 3)\n",
       "    (12): Embedding(3, 3)\n",
       "    (13): Embedding(3, 3)\n",
       "    (14): Embedding(2, 2)\n",
       "    (15): Embedding(5, 4)\n",
       "    (16): Embedding(3, 3)\n",
       "    (17): Embedding(3, 3)\n",
       "    (18): Embedding(3, 3)\n",
       "    (19): Embedding(3, 3)\n",
       "    (20): Embedding(3, 3)\n",
       "    (21): Embedding(4, 3)\n",
       "    (22): Embedding(3, 3)\n",
       "    (23): Embedding(6, 4)\n",
       "    (24): Embedding(4, 3)\n",
       "    (25): Embedding(6, 4)\n",
       "    (26): Embedding(3, 3)\n",
       "    (27): Embedding(43, 13)\n",
       "    (28): Embedding(10, 6)\n",
       "    (29): Embedding(6, 4)\n",
       "    (30): Embedding(4, 3)\n",
       "    (31): Embedding(7, 5)\n",
       "    (32): Embedding(4, 3)\n",
       "    (33): Embedding(4, 3)\n",
       "    (34): Embedding(3, 3)\n",
       "    (35): Embedding(3, 3)\n",
       "    (36): Embedding(3, 3)\n",
       "    (37): Embedding(3, 3)\n",
       "    (38): Embedding(3, 3)\n",
       "    (39): Embedding(3, 3)\n",
       "    (40): Embedding(3, 3)\n",
       "    (41): Embedding(3, 3)\n",
       "    (42): Embedding(3, 3)\n",
       "    (43): Embedding(3, 3)\n",
       "    (44): Embedding(3, 3)\n",
       "    (45): Embedding(3, 3)\n",
       "    (46): Embedding(3, 3)\n",
       "    (47): Embedding(3, 3)\n",
       "    (48): Embedding(3, 3)\n",
       "    (49): Embedding(3, 3)\n",
       "    (50): Embedding(3, 3)\n",
       "    (51): Embedding(3, 3)\n",
       "    (52): Embedding(3, 3)\n",
       "    (53): Embedding(3, 3)\n",
       "    (54): Embedding(3, 3)\n",
       "  )\n",
       "  (emb_drop): Dropout(p=0.1, inplace=False)\n",
       "  (bn_cont): BatchNorm1d(25, eps=1e-05, momentum=0.1, affine=True, track_running_stats=True)\n",
       "  (layers): Sequential(\n",
       "    (0): Linear(in_features=663, out_features=1000, bias=True)\n",
       "    (1): ReLU(inplace=True)\n",
       "    (2): BatchNorm1d(1000, eps=1e-05, momentum=0.1, affine=True, track_running_stats=True)\n",
       "    (3): Dropout(p=0.002, inplace=False)\n",
       "    (4): Linear(in_features=1000, out_features=500, bias=True)\n",
       "    (5): ReLU(inplace=True)\n",
       "    (6): BatchNorm1d(500, eps=1e-05, momentum=0.1, affine=True, track_running_stats=True)\n",
       "    (7): Dropout(p=0.02, inplace=False)\n",
       "    (8): Linear(in_features=500, out_features=2, bias=True)\n",
       "  )\n",
       ")"
      ]
     },
     "execution_count": 12,
     "metadata": {},
     "output_type": "execute_result"
    }
   ],
   "source": [
    "learn.model"
   ]
  },
  {
   "cell_type": "code",
   "execution_count": 13,
   "metadata": {},
   "outputs": [
    {
     "data": {
      "text/html": [],
      "text/plain": [
       "<IPython.core.display.HTML object>"
      ]
     },
     "metadata": {},
     "output_type": "display_data"
    },
    {
     "name": "stdout",
     "output_type": "stream",
     "text": [
      "LR Finder is complete, type {learner_name}.recorder.plot() to see the graph.\n"
     ]
    }
   ],
   "source": [
    "# select the appropriate learning rate\n",
    "learn.lr_find()"
   ]
  },
  {
   "cell_type": "code",
   "execution_count": 14,
   "metadata": {
    "scrolled": true
   },
   "outputs": [
    {
     "data": {
      "image/png": "[encoded data removed]",
      "text/plain": [
       "<Figure size 432x288 with 1 Axes>"
      ]
     },
     "metadata": {
      "needs_background": "light"
     },
     "output_type": "display_data"
    }
   ],
   "source": [
    "# we typically find the point where the slope is steepest\n",
    "learn.recorder.plot()"
   ]
  },
  {
   "cell_type": "code",
   "execution_count": 15,
   "metadata": {},
   "outputs": [
    {
     "data": {
      "text/html": [
       "<table border=\"1\" class=\"dataframe\">\n",
       "  <thead>\n",
       "    <tr style=\"text-align: left;\">\n",
       "      <th>epoch</th>\n",
       "      <th>train_loss</th>\n",
       "      <th>valid_loss</th>\n",
       "      <th>accuracy</th>\n",
       "      <th>time</th>\n",
       "    </tr>\n",
       "  </thead>\n",
       "  <tbody>\n",
       "    <tr>\n",
       "      <td>0</td>\n",
       "      <td>0.093459</td>\n",
       "      <td>0.087969</td>\n",
       "      <td>0.982833</td>\n",
       "      <td>00:53</td>\n",
       "    </tr>\n",
       "  </tbody>\n",
       "</table>"
      ],
      "text/plain": [
       "<IPython.core.display.HTML object>"
      ]
     },
     "metadata": {},
     "output_type": "display_data"
    },
    {
     "data": {
      "image/png": "[encoded data removed]",
      "text/plain": [
       "<Figure size 432x288 with 1 Axes>"
      ]
     },
     "metadata": {},
     "output_type": "display_data"
    }
   ],
   "source": [
    "# Fit the model based on selected learning rate\n",
    "learn.fit_one_cycle(1, max_lr=slice(1e-03))"
   ]
  },
  {
   "cell_type": "code",
   "execution_count": 16,
   "metadata": {},
   "outputs": [
    {
     "data": {
      "image/png": "[encoded data removed]",
      "text/plain": [
       "<Figure size 432x288 with 1 Axes>"
      ]
     },
     "metadata": {
      "needs_background": "light"
     },
     "output_type": "display_data"
    }
   ],
   "source": [
    "# Analyse our model\n",
    "learn.model\n",
    "learn.recorder.plot_losses()"
   ]
  },
  {
   "cell_type": "code",
   "execution_count": 17,
   "metadata": {},
   "outputs": [
    {
     "data": {
      "text/html": [],
      "text/plain": [
       "<IPython.core.display.HTML object>"
      ]
     },
     "metadata": {},
     "output_type": "display_data"
    },
    {
     "data": {
      "text/plain": [
       "0.07189108827756763"
      ]
     },
     "execution_count": 17,
     "metadata": {},
     "output_type": "execute_result"
    }
   ],
   "source": [
    "# Predict our target value\n",
    "predictions, *_ = learn.get_preds(DatasetType.Valid)\n",
    "y_score = np.array(predictions[:,1].tolist())\n",
    "y_valid = list(train_df.iloc[valid_ids].label)\n",
    "gini_score(y_valid, y_score)"
   ]
  },
  {
   "cell_type": "code",
   "execution_count": 18,
   "metadata": {},
   "outputs": [
    {
     "data": {
      "text/plain": [
       "0"
      ]
     },
     "execution_count": 18,
     "metadata": {},
     "output_type": "execute_result"
    }
   ],
   "source": [
    "sum(y_score > 0.5)"
   ]
  },
  {
   "cell_type": "code",
   "execution_count": 19,
   "metadata": {},
   "outputs": [
    {
     "data": {
      "text/plain": [
       "(2.9112854463164695e-05, 0.118144191801548)"
      ]
     },
     "execution_count": 19,
     "metadata": {},
     "output_type": "execute_result"
    }
   ],
   "source": [
    "min(y_score), max(y_score)"
   ]
  },
  {
   "cell_type": "code",
   "execution_count": 20,
   "metadata": {},
   "outputs": [
    {
     "data": {
      "text/html": [],
      "text/plain": [
       "<IPython.core.display.HTML object>"
      ]
     },
     "metadata": {},
     "output_type": "display_data"
    },
    {
     "data": {
      "text/html": [
       "<div>\n",
       "<style scoped>\n",
       "    .dataframe tbody tr th:only-of-type {\n",
       "        vertical-align: middle;\n",
       "    }\n",
       "\n",
       "    .dataframe tbody tr th {\n",
       "        vertical-align: top;\n",
       "    }\n",
       "\n",
       "    .dataframe thead th {\n",
       "        text-align: right;\n",
       "    }\n",
       "</style>\n",
       "<table border=\"1\" class=\"dataframe\">\n",
       "  <thead>\n",
       "    <tr style=\"text-align: right;\">\n",
       "      <th></th>\n",
       "      <th>id</th>\n",
       "      <th>label</th>\n",
       "    </tr>\n",
       "  </thead>\n",
       "  <tbody>\n",
       "    <tr>\n",
       "      <th>0</th>\n",
       "      <td>30000</td>\n",
       "      <td>0.985143</td>\n",
       "    </tr>\n",
       "    <tr>\n",
       "      <th>1</th>\n",
       "      <td>30001</td>\n",
       "      <td>0.985723</td>\n",
       "    </tr>\n",
       "    <tr>\n",
       "      <th>2</th>\n",
       "      <td>30002</td>\n",
       "      <td>0.986731</td>\n",
       "    </tr>\n",
       "    <tr>\n",
       "      <th>3</th>\n",
       "      <td>30003</td>\n",
       "      <td>0.988452</td>\n",
       "    </tr>\n",
       "    <tr>\n",
       "      <th>4</th>\n",
       "      <td>30004</td>\n",
       "      <td>0.985130</td>\n",
       "    </tr>\n",
       "  </tbody>\n",
       "</table>\n",
       "</div>"
      ],
      "text/plain": [
       "      id     label\n",
       "0  30000  0.985143\n",
       "1  30001  0.985723\n",
       "2  30002  0.986731\n",
       "3  30003  0.988452\n",
       "4  30004  0.985130"
      ]
     },
     "execution_count": 20,
     "metadata": {},
     "output_type": "execute_result"
    }
   ],
   "source": [
    "# Predict our target value\n",
    "predictions, *_ = learn.get_preds(DatasetType.Test)\n",
    "labels = np.array(predictions[:,0].tolist())\n",
    "# create submission file to submit in Kaggle competition\n",
    "submission = pd.DataFrame({'id': test_ids, 'label': labels})\n",
    "submission.to_csv('data/submission.csv', index=False)\n",
    "submission.head()"
   ]
  },
  {
   "cell_type": "code",
   "execution_count": 21,
   "metadata": {},
   "outputs": [
    {
     "name": "stdout",
     "output_type": "stream",
     "text": [
      "Converted 04_fast_ai_v1.ipynb to exp/nb_04.py\r\n"
     ]
    }
   ],
   "source": [
    "!python notebook2script.py 04_fast_ai_v1.ipynb"
   ]
  }
 ],
 "metadata": {
  "kernelspec": {
   "display_name": "Python 3",
   "language": "python",
   "name": "python3"
  },
  "language_info": {
   "codemirror_mode": {
    "name": "ipython",
    "version": 3
   },
   "file_extension": ".py",
   "mimetype": "text/x-python",
   "name": "python",
   "nbconvert_exporter": "python",
   "pygments_lexer": "ipython3",
   "version": "3.6.8"
  }
 },
 "nbformat": 4,
 "nbformat_minor": 2
}
